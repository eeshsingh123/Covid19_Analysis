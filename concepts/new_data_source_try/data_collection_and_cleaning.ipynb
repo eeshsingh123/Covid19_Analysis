{
 "cells": [
  {
   "cell_type": "code",
   "execution_count": 2,
   "metadata": {},
   "outputs": [],
   "source": [
    "import pandas as pd\n",
    "pd.set_option('display.max_columns', None)\n",
    "pd.set_option('display.max_colwidth', -1)\n",
    "\n",
    "import os\n",
    "import json\n",
    "BASE_PATH = os.environ.get(\"BASE_PATH\", os.path.join(os.sep, 'Projects', 'Python_projects', 'Covid19_Analysis'))\n",
    "BASE_DATA_PATH = os.environ.get(\"BASE_DATA_PATH\", os.path.join(os.sep, 'Projects', 'Python_projects', 'Covid19_Analysis', 'data'))"
   ]
  },
  {
   "cell_type": "markdown",
   "metadata": {},
   "source": [
    "# Loading various Datasets"
   ]
  },
  {
   "cell_type": "markdown",
   "metadata": {},
   "source": [
    "### timeseries"
   ]
  },
  {
   "cell_type": "code",
   "execution_count": 2,
   "metadata": {},
   "outputs": [
    {
     "data": {
      "text/plain": [
       "(458, 8)"
      ]
     },
     "execution_count": 2,
     "metadata": {},
     "output_type": "execute_result"
    }
   ],
   "source": [
    "ts_df = pd.read_csv('https://api.covid19india.org/csv/latest/case_time_series.csv')\n",
    "ts_df.shape"
   ]
  },
  {
   "cell_type": "code",
   "execution_count": null,
   "metadata": {},
   "outputs": [],
   "source": [
    "total_cases_df = ts_df[['Date', 'Date_YMD', 'Total Confirmed', 'Total Recovered', 'Total Deceased']]\n",
    "daily_cases_df = ts_df[['Date', 'Date_YMD', 'Daily Confirmed', 'Daily Recovered', 'Daily Deceased']]"
   ]
  },
  {
   "cell_type": "code",
   "execution_count": null,
   "metadata": {},
   "outputs": [],
   "source": [
    "total_cases_df.tail()"
   ]
  },
  {
   "cell_type": "code",
   "execution_count": null,
   "metadata": {},
   "outputs": [],
   "source": [
    "tot = {\n",
    "    'name': 'Total Confirmed',\n",
    "    'x': list(total_cases_df['Date']),\n",
    "    'y': list(total_cases_df['Total Confirmed'])\n",
    "}\n",
    "tot"
   ]
  },
  {
   "cell_type": "code",
   "execution_count": null,
   "metadata": {},
   "outputs": [],
   "source": [
    "total_cases_df['Date_YMD'] = pd.to_datetime(total_cases_df['Date_YMD'])"
   ]
  },
  {
   "cell_type": "code",
   "execution_count": null,
   "metadata": {},
   "outputs": [],
   "source": []
  },
  {
   "cell_type": "markdown",
   "metadata": {},
   "source": [
    "### Statewise"
   ]
  },
  {
   "cell_type": "code",
   "execution_count": 9,
   "metadata": {},
   "outputs": [],
   "source": [
    "state_df = pd.read_csv(\"https://api.covid19india.org/csv/latest/state_wise.csv\")\n",
    "# state_daily_df = pd.read_csv(\"https://api.covid19india.org/csv/latest/state_wise_daily.csv\")\n",
    "# state_wise_test_df = pd.read_csv(\"https://api.covid19india.org/csv/latest/statewise_tested_numbers_data.csv\")\n",
    "st_df = pd.read_csv(\"https://api.covid19india.org/csv/latest/states.csv\")"
   ]
  },
  {
   "cell_type": "code",
   "execution_count": 10,
   "metadata": {},
   "outputs": [
    {
     "data": {
      "text/html": [
       "<div>\n",
       "<style scoped>\n",
       "    .dataframe tbody tr th:only-of-type {\n",
       "        vertical-align: middle;\n",
       "    }\n",
       "\n",
       "    .dataframe tbody tr th {\n",
       "        vertical-align: top;\n",
       "    }\n",
       "\n",
       "    .dataframe thead th {\n",
       "        text-align: right;\n",
       "    }\n",
       "</style>\n",
       "<table border=\"1\" class=\"dataframe\">\n",
       "  <thead>\n",
       "    <tr style=\"text-align: right;\">\n",
       "      <th></th>\n",
       "      <th>State</th>\n",
       "      <th>Confirmed</th>\n",
       "      <th>Recovered</th>\n",
       "      <th>Deaths</th>\n",
       "      <th>Active</th>\n",
       "      <th>Last_Updated_Time</th>\n",
       "      <th>Migrated_Other</th>\n",
       "      <th>State_code</th>\n",
       "      <th>Delta_Confirmed</th>\n",
       "      <th>Delta_Recovered</th>\n",
       "      <th>Delta_Deaths</th>\n",
       "    </tr>\n",
       "  </thead>\n",
       "  <tbody>\n",
       "    <tr>\n",
       "      <th>0</th>\n",
       "      <td>Total</td>\n",
       "      <td>19549773</td>\n",
       "      <td>15981938</td>\n",
       "      <td>215524</td>\n",
       "      <td>3343860</td>\n",
       "      <td>2/5/2021 09:50:25</td>\n",
       "      <td>8451</td>\n",
       "      <td>TT</td>\n",
       "      <td>0</td>\n",
       "      <td>0</td>\n",
       "      <td>0</td>\n",
       "    </tr>\n",
       "    <tr>\n",
       "      <th>1</th>\n",
       "      <td>Maharashtra</td>\n",
       "      <td>4665754</td>\n",
       "      <td>3930302</td>\n",
       "      <td>69615</td>\n",
       "      <td>663758</td>\n",
       "      <td>01/05/2021 21:12:25</td>\n",
       "      <td>2079</td>\n",
       "      <td>MH</td>\n",
       "      <td>0</td>\n",
       "      <td>0</td>\n",
       "      <td>0</td>\n",
       "    </tr>\n",
       "    <tr>\n",
       "      <th>2</th>\n",
       "      <td>Kerala</td>\n",
       "      <td>1606820</td>\n",
       "      <td>1277294</td>\n",
       "      <td>5357</td>\n",
       "      <td>323827</td>\n",
       "      <td>01/05/2021 20:08:31</td>\n",
       "      <td>342</td>\n",
       "      <td>KL</td>\n",
       "      <td>0</td>\n",
       "      <td>0</td>\n",
       "      <td>0</td>\n",
       "    </tr>\n",
       "    <tr>\n",
       "      <th>3</th>\n",
       "      <td>Karnataka</td>\n",
       "      <td>1564132</td>\n",
       "      <td>1143250</td>\n",
       "      <td>15794</td>\n",
       "      <td>405068</td>\n",
       "      <td>01/05/2021 20:08:33</td>\n",
       "      <td>20</td>\n",
       "      <td>KA</td>\n",
       "      <td>0</td>\n",
       "      <td>0</td>\n",
       "      <td>0</td>\n",
       "    </tr>\n",
       "    <tr>\n",
       "      <th>4</th>\n",
       "      <td>Andhra Pradesh</td>\n",
       "      <td>1121102</td>\n",
       "      <td>982297</td>\n",
       "      <td>8053</td>\n",
       "      <td>130752</td>\n",
       "      <td>01/05/2021 20:34:31</td>\n",
       "      <td>0</td>\n",
       "      <td>AP</td>\n",
       "      <td>0</td>\n",
       "      <td>0</td>\n",
       "      <td>0</td>\n",
       "    </tr>\n",
       "  </tbody>\n",
       "</table>\n",
       "</div>"
      ],
      "text/plain": [
       "            State  Confirmed  Recovered  Deaths   Active    Last_Updated_Time  \\\n",
       "0  Total           19549773   15981938   215524  3343860  2/5/2021 09:50:25     \n",
       "1  Maharashtra     4665754    3930302    69615   663758   01/05/2021 21:12:25   \n",
       "2  Kerala          1606820    1277294    5357    323827   01/05/2021 20:08:31   \n",
       "3  Karnataka       1564132    1143250    15794   405068   01/05/2021 20:08:33   \n",
       "4  Andhra Pradesh  1121102    982297     8053    130752   01/05/2021 20:34:31   \n",
       "\n",
       "   Migrated_Other State_code  Delta_Confirmed  Delta_Recovered  Delta_Deaths  \n",
       "0  8451            TT         0                0                0             \n",
       "1  2079            MH         0                0                0             \n",
       "2  342             KL         0                0                0             \n",
       "3  20              KA         0                0                0             \n",
       "4  0               AP         0                0                0             "
      ]
     },
     "execution_count": 10,
     "metadata": {},
     "output_type": "execute_result"
    }
   ],
   "source": [
    "state_df.drop('State_Notes', axis=1, inplace=True)\n",
    "state_df.head()"
   ]
  },
  {
   "cell_type": "code",
   "execution_count": 49,
   "metadata": {},
   "outputs": [
    {
     "data": {
      "text/plain": [
       "0    38\n",
       "Name: Delta_Confirmed, dtype: int64"
      ]
     },
     "execution_count": 49,
     "metadata": {},
     "output_type": "execute_result"
    }
   ],
   "source": [
    "state_df['Delta_Confirmed'].value_counts()"
   ]
  },
  {
   "cell_type": "code",
   "execution_count": 27,
   "metadata": {},
   "outputs": [
    {
     "data": {
      "text/plain": [
       "['Maharashtra',\n",
       " 'Kerala',\n",
       " 'Karnataka',\n",
       " 'Uttar Pradesh',\n",
       " 'Tamil Nadu',\n",
       " 'Delhi',\n",
       " 'Andhra Pradesh',\n",
       " 'West Bengal',\n",
       " 'Chhattisgarh',\n",
       " 'Rajasthan']"
      ]
     },
     "execution_count": 27,
     "metadata": {},
     "output_type": "execute_result"
    }
   ],
   "source": [
    "stt = state_df.sort_values('Confirmed', ascending=False)[['State', 'Confirmed']][1:]\n",
    "l = list(stt['State'][:10])\n",
    "l"
   ]
  },
  {
   "cell_type": "code",
   "execution_count": 45,
   "metadata": {},
   "outputs": [],
   "source": [
    "samp = st_df[st_df['State'] == 'Maharashtra']"
   ]
  },
  {
   "cell_type": "code",
   "execution_count": 48,
   "metadata": {},
   "outputs": [
    {
     "data": {
      "text/html": [
       "<div>\n",
       "<style scoped>\n",
       "    .dataframe tbody tr th:only-of-type {\n",
       "        vertical-align: middle;\n",
       "    }\n",
       "\n",
       "    .dataframe tbody tr th {\n",
       "        vertical-align: top;\n",
       "    }\n",
       "\n",
       "    .dataframe thead th {\n",
       "        text-align: right;\n",
       "    }\n",
       "</style>\n",
       "<table border=\"1\" class=\"dataframe\">\n",
       "  <thead>\n",
       "    <tr style=\"text-align: right;\">\n",
       "      <th></th>\n",
       "      <th>Date</th>\n",
       "      <th>State</th>\n",
       "      <th>Confirmed</th>\n",
       "      <th>Recovered</th>\n",
       "      <th>Deceased</th>\n",
       "      <th>Other</th>\n",
       "      <th>Tested</th>\n",
       "    </tr>\n",
       "  </thead>\n",
       "  <tbody>\n",
       "    <tr>\n",
       "      <th>0</th>\n",
       "      <td>2020-01-30</td>\n",
       "      <td>Kerala</td>\n",
       "      <td>1</td>\n",
       "      <td>0</td>\n",
       "      <td>0</td>\n",
       "      <td>0</td>\n",
       "      <td>NaN</td>\n",
       "    </tr>\n",
       "    <tr>\n",
       "      <th>1</th>\n",
       "      <td>2020-01-30</td>\n",
       "      <td>India</td>\n",
       "      <td>1</td>\n",
       "      <td>0</td>\n",
       "      <td>0</td>\n",
       "      <td>0</td>\n",
       "      <td>NaN</td>\n",
       "    </tr>\n",
       "    <tr>\n",
       "      <th>2</th>\n",
       "      <td>2020-02-02</td>\n",
       "      <td>Kerala</td>\n",
       "      <td>2</td>\n",
       "      <td>0</td>\n",
       "      <td>0</td>\n",
       "      <td>0</td>\n",
       "      <td>NaN</td>\n",
       "    </tr>\n",
       "    <tr>\n",
       "      <th>3</th>\n",
       "      <td>2020-02-02</td>\n",
       "      <td>India</td>\n",
       "      <td>2</td>\n",
       "      <td>0</td>\n",
       "      <td>0</td>\n",
       "      <td>0</td>\n",
       "      <td>NaN</td>\n",
       "    </tr>\n",
       "    <tr>\n",
       "      <th>4</th>\n",
       "      <td>2020-02-03</td>\n",
       "      <td>Kerala</td>\n",
       "      <td>3</td>\n",
       "      <td>0</td>\n",
       "      <td>0</td>\n",
       "      <td>0</td>\n",
       "      <td>NaN</td>\n",
       "    </tr>\n",
       "  </tbody>\n",
       "</table>\n",
       "</div>"
      ],
      "text/plain": [
       "         Date   State  Confirmed  Recovered  Deceased  Other  Tested\n",
       "0  2020-01-30  Kerala  1          0          0         0     NaN    \n",
       "1  2020-01-30  India   1          0          0         0     NaN    \n",
       "2  2020-02-02  Kerala  2          0          0         0     NaN    \n",
       "3  2020-02-02  India   2          0          0         0     NaN    \n",
       "4  2020-02-03  Kerala  3          0          0         0     NaN    "
      ]
     },
     "execution_count": 48,
     "metadata": {},
     "output_type": "execute_result"
    }
   ],
   "source": [
    "st_df.head()"
   ]
  },
  {
   "cell_type": "code",
   "execution_count": 46,
   "metadata": {},
   "outputs": [
    {
     "data": {
      "text/html": [
       "<div>\n",
       "<style scoped>\n",
       "    .dataframe tbody tr th:only-of-type {\n",
       "        vertical-align: middle;\n",
       "    }\n",
       "\n",
       "    .dataframe tbody tr th {\n",
       "        vertical-align: top;\n",
       "    }\n",
       "\n",
       "    .dataframe thead th {\n",
       "        text-align: right;\n",
       "    }\n",
       "</style>\n",
       "<table border=\"1\" class=\"dataframe\">\n",
       "  <thead>\n",
       "    <tr style=\"text-align: right;\">\n",
       "      <th></th>\n",
       "      <th>Date</th>\n",
       "      <th>State</th>\n",
       "      <th>Confirmed</th>\n",
       "      <th>Recovered</th>\n",
       "      <th>Deceased</th>\n",
       "      <th>Other</th>\n",
       "      <th>Tested</th>\n",
       "    </tr>\n",
       "  </thead>\n",
       "  <tbody>\n",
       "    <tr>\n",
       "      <th>14747</th>\n",
       "      <td>2021-04-27</td>\n",
       "      <td>Maharashtra</td>\n",
       "      <td>4410085</td>\n",
       "      <td>3669548</td>\n",
       "      <td>66179</td>\n",
       "      <td>1924</td>\n",
       "      <td>26254737.0</td>\n",
       "    </tr>\n",
       "    <tr>\n",
       "      <th>14784</th>\n",
       "      <td>2021-04-28</td>\n",
       "      <td>Maharashtra</td>\n",
       "      <td>4473394</td>\n",
       "      <td>3730729</td>\n",
       "      <td>67214</td>\n",
       "      <td>1970</td>\n",
       "      <td>26527862.0</td>\n",
       "    </tr>\n",
       "    <tr>\n",
       "      <th>14821</th>\n",
       "      <td>2021-04-29</td>\n",
       "      <td>Maharashtra</td>\n",
       "      <td>4539553</td>\n",
       "      <td>3799266</td>\n",
       "      <td>67985</td>\n",
       "      <td>2001</td>\n",
       "      <td>26816075.0</td>\n",
       "    </tr>\n",
       "    <tr>\n",
       "      <th>14858</th>\n",
       "      <td>2021-04-30</td>\n",
       "      <td>Maharashtra</td>\n",
       "      <td>4602472</td>\n",
       "      <td>3868976</td>\n",
       "      <td>68813</td>\n",
       "      <td>2043</td>\n",
       "      <td>27106282.0</td>\n",
       "    </tr>\n",
       "    <tr>\n",
       "      <th>14895</th>\n",
       "      <td>2021-05-01</td>\n",
       "      <td>Maharashtra</td>\n",
       "      <td>4665754</td>\n",
       "      <td>3930302</td>\n",
       "      <td>69615</td>\n",
       "      <td>2079</td>\n",
       "      <td>27395288.0</td>\n",
       "    </tr>\n",
       "  </tbody>\n",
       "</table>\n",
       "</div>"
      ],
      "text/plain": [
       "             Date        State  Confirmed  Recovered  Deceased  Other  \\\n",
       "14747  2021-04-27  Maharashtra  4410085    3669548    66179     1924    \n",
       "14784  2021-04-28  Maharashtra  4473394    3730729    67214     1970    \n",
       "14821  2021-04-29  Maharashtra  4539553    3799266    67985     2001    \n",
       "14858  2021-04-30  Maharashtra  4602472    3868976    68813     2043    \n",
       "14895  2021-05-01  Maharashtra  4665754    3930302    69615     2079    \n",
       "\n",
       "           Tested  \n",
       "14747  26254737.0  \n",
       "14784  26527862.0  \n",
       "14821  26816075.0  \n",
       "14858  27106282.0  \n",
       "14895  27395288.0  "
      ]
     },
     "execution_count": 46,
     "metadata": {},
     "output_type": "execute_result"
    }
   ],
   "source": [
    "samp.tail()"
   ]
  },
  {
   "cell_type": "code",
   "execution_count": 5,
   "metadata": {},
   "outputs": [
    {
     "name": "stderr",
     "output_type": "stream",
     "text": [
      "c:\\projects\\virtual_env\\lib\\site-packages\\ipykernel_launcher.py:2: SettingWithCopyWarning: \n",
      "A value is trying to be set on a copy of a slice from a DataFrame.\n",
      "Try using .loc[row_indexer,col_indexer] = value instead\n",
      "\n",
      "See the caveats in the documentation: http://pandas.pydata.org/pandas-docs/stable/user_guide/indexing.html#returning-a-view-versus-a-copy\n",
      "  \n",
      "c:\\projects\\virtual_env\\lib\\site-packages\\pandas\\core\\frame.py:4259: SettingWithCopyWarning: \n",
      "A value is trying to be set on a copy of a slice from a DataFrame\n",
      "\n",
      "See the caveats in the documentation: http://pandas.pydata.org/pandas-docs/stable/user_guide/indexing.html#returning-a-view-versus-a-copy\n",
      "  **kwargs\n"
     ]
    }
   ],
   "source": [
    "for col in samp.columns[2:]:\n",
    "    samp[f'Daily {\" \".join(col.split())}'] = samp[col].diff()\n",
    "    \n",
    "samp.fillna(0.0, axis=1, inplace=True)"
   ]
  },
  {
   "cell_type": "code",
   "execution_count": 6,
   "metadata": {},
   "outputs": [
    {
     "data": {
      "text/html": [
       "<div>\n",
       "<style scoped>\n",
       "    .dataframe tbody tr th:only-of-type {\n",
       "        vertical-align: middle;\n",
       "    }\n",
       "\n",
       "    .dataframe tbody tr th {\n",
       "        vertical-align: top;\n",
       "    }\n",
       "\n",
       "    .dataframe thead th {\n",
       "        text-align: right;\n",
       "    }\n",
       "</style>\n",
       "<table border=\"1\" class=\"dataframe\">\n",
       "  <thead>\n",
       "    <tr style=\"text-align: right;\">\n",
       "      <th></th>\n",
       "      <th>Date</th>\n",
       "      <th>State</th>\n",
       "      <th>Confirmed</th>\n",
       "      <th>Recovered</th>\n",
       "      <th>Deceased</th>\n",
       "      <th>Other</th>\n",
       "      <th>Tested</th>\n",
       "      <th>Daily Confirmed</th>\n",
       "      <th>Daily Recovered</th>\n",
       "      <th>Daily Deceased</th>\n",
       "      <th>Daily Other</th>\n",
       "      <th>Daily Tested</th>\n",
       "    </tr>\n",
       "  </thead>\n",
       "  <tbody>\n",
       "    <tr>\n",
       "      <th>14747</th>\n",
       "      <td>2021-04-27</td>\n",
       "      <td>Maharashtra</td>\n",
       "      <td>4410085</td>\n",
       "      <td>3669548</td>\n",
       "      <td>66179</td>\n",
       "      <td>1924</td>\n",
       "      <td>26254737.0</td>\n",
       "      <td>66358.0</td>\n",
       "      <td>67752.0</td>\n",
       "      <td>895.0</td>\n",
       "      <td>47.0</td>\n",
       "      <td>282719.0</td>\n",
       "    </tr>\n",
       "    <tr>\n",
       "      <th>14784</th>\n",
       "      <td>2021-04-28</td>\n",
       "      <td>Maharashtra</td>\n",
       "      <td>4473394</td>\n",
       "      <td>3730729</td>\n",
       "      <td>67214</td>\n",
       "      <td>1970</td>\n",
       "      <td>26527862.0</td>\n",
       "      <td>63309.0</td>\n",
       "      <td>61181.0</td>\n",
       "      <td>1035.0</td>\n",
       "      <td>46.0</td>\n",
       "      <td>273125.0</td>\n",
       "    </tr>\n",
       "    <tr>\n",
       "      <th>14821</th>\n",
       "      <td>2021-04-29</td>\n",
       "      <td>Maharashtra</td>\n",
       "      <td>4539553</td>\n",
       "      <td>3799266</td>\n",
       "      <td>67985</td>\n",
       "      <td>2001</td>\n",
       "      <td>26816075.0</td>\n",
       "      <td>66159.0</td>\n",
       "      <td>68537.0</td>\n",
       "      <td>771.0</td>\n",
       "      <td>31.0</td>\n",
       "      <td>288213.0</td>\n",
       "    </tr>\n",
       "    <tr>\n",
       "      <th>14858</th>\n",
       "      <td>2021-04-30</td>\n",
       "      <td>Maharashtra</td>\n",
       "      <td>4602472</td>\n",
       "      <td>3868976</td>\n",
       "      <td>68813</td>\n",
       "      <td>2043</td>\n",
       "      <td>27106282.0</td>\n",
       "      <td>62919.0</td>\n",
       "      <td>69710.0</td>\n",
       "      <td>828.0</td>\n",
       "      <td>42.0</td>\n",
       "      <td>290207.0</td>\n",
       "    </tr>\n",
       "    <tr>\n",
       "      <th>14895</th>\n",
       "      <td>2021-05-01</td>\n",
       "      <td>Maharashtra</td>\n",
       "      <td>4665754</td>\n",
       "      <td>3930302</td>\n",
       "      <td>69615</td>\n",
       "      <td>2079</td>\n",
       "      <td>27395288.0</td>\n",
       "      <td>63282.0</td>\n",
       "      <td>61326.0</td>\n",
       "      <td>802.0</td>\n",
       "      <td>36.0</td>\n",
       "      <td>289006.0</td>\n",
       "    </tr>\n",
       "  </tbody>\n",
       "</table>\n",
       "</div>"
      ],
      "text/plain": [
       "             Date        State  Confirmed  Recovered  Deceased  Other  \\\n",
       "14747  2021-04-27  Maharashtra  4410085    3669548    66179     1924    \n",
       "14784  2021-04-28  Maharashtra  4473394    3730729    67214     1970    \n",
       "14821  2021-04-29  Maharashtra  4539553    3799266    67985     2001    \n",
       "14858  2021-04-30  Maharashtra  4602472    3868976    68813     2043    \n",
       "14895  2021-05-01  Maharashtra  4665754    3930302    69615     2079    \n",
       "\n",
       "           Tested  Daily Confirmed  Daily Recovered  Daily Deceased  \\\n",
       "14747  26254737.0  66358.0          67752.0          895.0            \n",
       "14784  26527862.0  63309.0          61181.0          1035.0           \n",
       "14821  26816075.0  66159.0          68537.0          771.0            \n",
       "14858  27106282.0  62919.0          69710.0          828.0            \n",
       "14895  27395288.0  63282.0          61326.0          802.0            \n",
       "\n",
       "       Daily Other  Daily Tested  \n",
       "14747  47.0         282719.0      \n",
       "14784  46.0         273125.0      \n",
       "14821  31.0         288213.0      \n",
       "14858  42.0         290207.0      \n",
       "14895  36.0         289006.0      "
      ]
     },
     "execution_count": 6,
     "metadata": {},
     "output_type": "execute_result"
    }
   ],
   "source": [
    "samp.tail()"
   ]
  },
  {
   "cell_type": "code",
   "execution_count": 7,
   "metadata": {},
   "outputs": [
    {
     "data": {
      "text/html": [
       "<div>\n",
       "<style scoped>\n",
       "    .dataframe tbody tr th:only-of-type {\n",
       "        vertical-align: middle;\n",
       "    }\n",
       "\n",
       "    .dataframe tbody tr th {\n",
       "        vertical-align: top;\n",
       "    }\n",
       "\n",
       "    .dataframe thead th {\n",
       "        text-align: right;\n",
       "    }\n",
       "</style>\n",
       "<table border=\"1\" class=\"dataframe\">\n",
       "  <thead>\n",
       "    <tr style=\"text-align: right;\">\n",
       "      <th></th>\n",
       "      <th>State</th>\n",
       "      <th>Confirmed</th>\n",
       "      <th>Recovered</th>\n",
       "      <th>Deaths</th>\n",
       "      <th>Active</th>\n",
       "      <th>Last_Updated_Time</th>\n",
       "      <th>Migrated_Other</th>\n",
       "      <th>State_code</th>\n",
       "      <th>Delta_Confirmed</th>\n",
       "      <th>Delta_Recovered</th>\n",
       "      <th>Delta_Deaths</th>\n",
       "    </tr>\n",
       "  </thead>\n",
       "  <tbody>\n",
       "    <tr>\n",
       "      <th>33</th>\n",
       "      <td>Andaman and Nicobar Islands</td>\n",
       "      <td>6046</td>\n",
       "      <td>5773</td>\n",
       "      <td>68</td>\n",
       "      <td>205</td>\n",
       "      <td>01/05/2021 23:53:43</td>\n",
       "      <td>0</td>\n",
       "      <td>AN</td>\n",
       "      <td>0</td>\n",
       "      <td>0</td>\n",
       "      <td>0</td>\n",
       "    </tr>\n",
       "    <tr>\n",
       "      <th>34</th>\n",
       "      <td>Mizoram</td>\n",
       "      <td>6132</td>\n",
       "      <td>4926</td>\n",
       "      <td>15</td>\n",
       "      <td>1191</td>\n",
       "      <td>01/05/2021 13:30:27</td>\n",
       "      <td>0</td>\n",
       "      <td>MZ</td>\n",
       "      <td>0</td>\n",
       "      <td>0</td>\n",
       "      <td>0</td>\n",
       "    </tr>\n",
       "    <tr>\n",
       "      <th>35</th>\n",
       "      <td>Dadra and Nagar Haveli and Daman and Diu</td>\n",
       "      <td>7873</td>\n",
       "      <td>5826</td>\n",
       "      <td>4</td>\n",
       "      <td>2011</td>\n",
       "      <td>01/05/2021 22:25:58</td>\n",
       "      <td>32</td>\n",
       "      <td>DN</td>\n",
       "      <td>0</td>\n",
       "      <td>0</td>\n",
       "      <td>0</td>\n",
       "    </tr>\n",
       "    <tr>\n",
       "      <th>36</th>\n",
       "      <td>Lakshadweep</td>\n",
       "      <td>2923</td>\n",
       "      <td>1471</td>\n",
       "      <td>4</td>\n",
       "      <td>1438</td>\n",
       "      <td>01/05/2021 22:26:00</td>\n",
       "      <td>10</td>\n",
       "      <td>LD</td>\n",
       "      <td>0</td>\n",
       "      <td>0</td>\n",
       "      <td>0</td>\n",
       "    </tr>\n",
       "    <tr>\n",
       "      <th>37</th>\n",
       "      <td>State Unassigned</td>\n",
       "      <td>0</td>\n",
       "      <td>0</td>\n",
       "      <td>0</td>\n",
       "      <td>0</td>\n",
       "      <td>19/07/2020 09:40:01</td>\n",
       "      <td>0</td>\n",
       "      <td>UN</td>\n",
       "      <td>0</td>\n",
       "      <td>0</td>\n",
       "      <td>0</td>\n",
       "    </tr>\n",
       "  </tbody>\n",
       "</table>\n",
       "</div>"
      ],
      "text/plain": [
       "                                       State  Confirmed  Recovered  Deaths  \\\n",
       "33  Andaman and Nicobar Islands               6046       5773       68       \n",
       "34  Mizoram                                   6132       4926       15       \n",
       "35  Dadra and Nagar Haveli and Daman and Diu  7873       5826       4        \n",
       "36  Lakshadweep                               2923       1471       4        \n",
       "37  State Unassigned                          0          0          0        \n",
       "\n",
       "    Active    Last_Updated_Time  Migrated_Other State_code  Delta_Confirmed  \\\n",
       "33  205     01/05/2021 23:53:43  0               AN         0                 \n",
       "34  1191    01/05/2021 13:30:27  0               MZ         0                 \n",
       "35  2011    01/05/2021 22:25:58  32              DN         0                 \n",
       "36  1438    01/05/2021 22:26:00  10              LD         0                 \n",
       "37  0       19/07/2020 09:40:01  0               UN         0                 \n",
       "\n",
       "    Delta_Recovered  Delta_Deaths  \n",
       "33  0                0             \n",
       "34  0                0             \n",
       "35  0                0             \n",
       "36  0                0             \n",
       "37  0                0             "
      ]
     },
     "execution_count": 7,
     "metadata": {},
     "output_type": "execute_result"
    }
   ],
   "source": [
    "state_df.tail()"
   ]
  },
  {
   "cell_type": "code",
   "execution_count": null,
   "metadata": {},
   "outputs": [],
   "source": [
    "state_df.drop('State_Notes', axis=1, inplace=True)"
   ]
  },
  {
   "cell_type": "code",
   "execution_count": null,
   "metadata": {},
   "outputs": [],
   "source": [
    "st_list = list(state_df['State'][1:])"
   ]
  },
  {
   "cell_type": "code",
   "execution_count": null,
   "metadata": {},
   "outputs": [],
   "source": [
    "state_df.head()"
   ]
  },
  {
   "cell_type": "code",
   "execution_count": null,
   "metadata": {},
   "outputs": [],
   "source": [
    "ss = dict(state_df.loc[1, :])\n",
    "ss\n",
    "# ss = {column: col_val for column, col_val in ss.items() if column != 'State'}"
   ]
  },
  {
   "cell_type": "code",
   "execution_count": null,
   "metadata": {},
   "outputs": [],
   "source": [
    "{k:vv for k,v in ss.items() for kk,vv in v.items() if k != \"State\"}"
   ]
  },
  {
   "cell_type": "code",
   "execution_count": null,
   "metadata": {},
   "outputs": [],
   "source": [
    "state_code_mapper = {k:v for k,v in zip(state_df['State_code'], state_df['State'])}\n",
    "state_code_mapper"
   ]
  },
  {
   "cell_type": "code",
   "execution_count": null,
   "metadata": {},
   "outputs": [],
   "source": [
    "with open(f'{BASE_DATA_PATH}\\\\default_objects\\\\state_code_mapper.json', 'w', encoding='utf-8') as fp:\n",
    "    json.dump(state_code_mapper, fp)"
   ]
  },
  {
   "cell_type": "code",
   "execution_count": null,
   "metadata": {},
   "outputs": [],
   "source": [
    "state_daily_df.columns = [state_code_mapper.get(i,i) for i in state_daily_df.columns]\n",
    "state_daily_df.drop('State Unassigned', axis=1, inplace=True)"
   ]
  },
  {
   "cell_type": "code",
   "execution_count": null,
   "metadata": {},
   "outputs": [],
   "source": [
    "x = st_df[st_df['State'] == 'Maharashtra']\n",
    "x.fillna(0.0, axis=1, inplace=True)\n",
    "x.tail()"
   ]
  },
  {
   "cell_type": "code",
   "execution_count": null,
   "metadata": {},
   "outputs": [],
   "source": [
    "import gc\n",
    "gc.collect()"
   ]
  },
  {
   "cell_type": "code",
   "execution_count": null,
   "metadata": {},
   "outputs": [],
   "source": [
    "import gc \n",
    "gc.collect()"
   ]
  },
  {
   "cell_type": "markdown",
   "metadata": {},
   "source": [
    "### Districts"
   ]
  },
  {
   "cell_type": "code",
   "execution_count": null,
   "metadata": {},
   "outputs": [],
   "source": [
    "dist_df = pd.read_csv(\"https://api.covid19india.org/csv/latest/districts.csv\")\n",
    "dist_df.head()"
   ]
  },
  {
   "cell_type": "code",
   "execution_count": null,
   "metadata": {},
   "outputs": [],
   "source": [
    "dist_df[(dist_df['State'] == 'Maharashtra') & (dist_df['District'] == 'Ahmednagar')]"
   ]
  },
  {
   "cell_type": "code",
   "execution_count": null,
   "metadata": {},
   "outputs": [],
   "source": [
    "dd = pd.read_csv(\"https://api.covid19india.org/csv/latest/district_wise.csv\")\n",
    "dd.head()"
   ]
  },
  {
   "cell_type": "code",
   "execution_count": null,
   "metadata": {},
   "outputs": [],
   "source": [
    "dd[(dd['State'] == 'Maharashtra') & (dd['District'] == 'Ahmednagar')]"
   ]
  },
  {
   "cell_type": "markdown",
   "metadata": {},
   "source": [
    "## MASTER DATA - beds, ventilators"
   ]
  },
  {
   "cell_type": "markdown",
   "metadata": {},
   "source": [
    "#### - Most of the data is NAN"
   ]
  },
  {
   "cell_type": "code",
   "execution_count": null,
   "metadata": {},
   "outputs": [],
   "source": [
    "df = pd.read_csv(\"https://api.covid19india.org/csv/latest/statewise_tested_numbers_data.csv\")"
   ]
  },
  {
   "cell_type": "code",
   "execution_count": null,
   "metadata": {},
   "outputs": [],
   "source": [
    "df.tail()"
   ]
  },
  {
   "cell_type": "code",
   "execution_count": null,
   "metadata": {},
   "outputs": [],
   "source": [
    "bed_cols = [i for i in df.columns if \"bed\" in i.lower()]\n",
    "bed_df = df[[\"Updated On\", \"State\"] + ['People on Ventilator', 'Total Num Ventilators'] + bed_cols]\n",
    "bed_df.shape"
   ]
  },
  {
   "cell_type": "code",
   "execution_count": null,
   "metadata": {},
   "outputs": [],
   "source": [
    "bed_df[bed_df['State'] == \"Delhi\"].tail(20)"
   ]
  },
  {
   "cell_type": "code",
   "execution_count": null,
   "metadata": {},
   "outputs": [],
   "source": [
    "[i for i in df.columns if \"ventilator\" in i.lower()]"
   ]
  },
  {
   "cell_type": "code",
   "execution_count": null,
   "metadata": {},
   "outputs": [],
   "source": [
    "df[df['State'] == 'Mah'].tail(50)"
   ]
  },
  {
   "cell_type": "markdown",
   "metadata": {},
   "source": [
    "## Vaccine data"
   ]
  },
  {
   "cell_type": "code",
   "execution_count": 16,
   "metadata": {},
   "outputs": [],
   "source": [
    "vdf = pd.read_csv(\"http://api.covid19india.org/csv/latest/cowin_vaccine_data_statewise.csv\")"
   ]
  },
  {
   "cell_type": "code",
   "execution_count": 19,
   "metadata": {},
   "outputs": [],
   "source": [
    "vdf.dropna(subset=[i for i in vdf.columns if i not in ['Total Doses Administered', 'Updated On', 'State']], axis=0, how='all', inplace=True)"
   ]
  },
  {
   "cell_type": "code",
   "execution_count": 21,
   "metadata": {},
   "outputs": [
    {
     "data": {
      "text/html": [
       "<div>\n",
       "<style scoped>\n",
       "    .dataframe tbody tr th:only-of-type {\n",
       "        vertical-align: middle;\n",
       "    }\n",
       "\n",
       "    .dataframe tbody tr th {\n",
       "        vertical-align: top;\n",
       "    }\n",
       "\n",
       "    .dataframe thead th {\n",
       "        text-align: right;\n",
       "    }\n",
       "</style>\n",
       "<table border=\"1\" class=\"dataframe\">\n",
       "  <thead>\n",
       "    <tr style=\"text-align: right;\">\n",
       "      <th></th>\n",
       "      <th>Updated On</th>\n",
       "      <th>State</th>\n",
       "      <th>Total Individuals Vaccinated</th>\n",
       "      <th>Total Sessions Conducted</th>\n",
       "      <th>Total Sites</th>\n",
       "      <th>First Dose Administered</th>\n",
       "      <th>Second Dose Administered</th>\n",
       "      <th>Male(Individuals Vaccinated)</th>\n",
       "      <th>Female(Individuals Vaccinated)</th>\n",
       "      <th>Transgender(Individuals Vaccinated)</th>\n",
       "      <th>Total Covaxin Administered</th>\n",
       "      <th>Total CoviShield Administered</th>\n",
       "      <th>AEFI</th>\n",
       "      <th>18-30 years (Age)</th>\n",
       "      <th>30-45 years (Age)</th>\n",
       "      <th>45-60 years (Age)</th>\n",
       "      <th>60+ years (Age)</th>\n",
       "      <th>Total Doses Administered</th>\n",
       "    </tr>\n",
       "  </thead>\n",
       "  <tbody>\n",
       "    <tr>\n",
       "      <th>2350</th>\n",
       "      <td>16/01/2021</td>\n",
       "      <td>Maharashtra</td>\n",
       "      <td>5726.0</td>\n",
       "      <td>179.0</td>\n",
       "      <td>174.0</td>\n",
       "      <td>5726.0</td>\n",
       "      <td>0.0</td>\n",
       "      <td>3668.0</td>\n",
       "      <td>2057.0</td>\n",
       "      <td>1.0</td>\n",
       "      <td>85.0</td>\n",
       "      <td>5641.0</td>\n",
       "      <td>NaN</td>\n",
       "      <td>NaN</td>\n",
       "      <td>NaN</td>\n",
       "      <td>NaN</td>\n",
       "      <td>NaN</td>\n",
       "      <td>5726</td>\n",
       "    </tr>\n",
       "    <tr>\n",
       "      <th>2351</th>\n",
       "      <td>17/01/2021</td>\n",
       "      <td>Maharashtra</td>\n",
       "      <td>6521.0</td>\n",
       "      <td>269.0</td>\n",
       "      <td>216.0</td>\n",
       "      <td>6521.0</td>\n",
       "      <td>0.0</td>\n",
       "      <td>3953.0</td>\n",
       "      <td>2566.0</td>\n",
       "      <td>2.0</td>\n",
       "      <td>94.0</td>\n",
       "      <td>6427.0</td>\n",
       "      <td>NaN</td>\n",
       "      <td>NaN</td>\n",
       "      <td>NaN</td>\n",
       "      <td>NaN</td>\n",
       "      <td>NaN</td>\n",
       "      <td>6521</td>\n",
       "    </tr>\n",
       "    <tr>\n",
       "      <th>2352</th>\n",
       "      <td>18/01/2021</td>\n",
       "      <td>Maharashtra</td>\n",
       "      <td>6151.0</td>\n",
       "      <td>772.0</td>\n",
       "      <td>320.0</td>\n",
       "      <td>6151.0</td>\n",
       "      <td>0.0</td>\n",
       "      <td>3569.0</td>\n",
       "      <td>2581.0</td>\n",
       "      <td>1.0</td>\n",
       "      <td>105.0</td>\n",
       "      <td>6046.0</td>\n",
       "      <td>NaN</td>\n",
       "      <td>NaN</td>\n",
       "      <td>NaN</td>\n",
       "      <td>NaN</td>\n",
       "      <td>NaN</td>\n",
       "      <td>6151</td>\n",
       "    </tr>\n",
       "    <tr>\n",
       "      <th>2353</th>\n",
       "      <td>19/01/2021</td>\n",
       "      <td>Maharashtra</td>\n",
       "      <td>13699.0</td>\n",
       "      <td>1196.0</td>\n",
       "      <td>340.0</td>\n",
       "      <td>13699.0</td>\n",
       "      <td>0.0</td>\n",
       "      <td>6328.0</td>\n",
       "      <td>7367.0</td>\n",
       "      <td>4.0</td>\n",
       "      <td>214.0</td>\n",
       "      <td>13485.0</td>\n",
       "      <td>NaN</td>\n",
       "      <td>NaN</td>\n",
       "      <td>NaN</td>\n",
       "      <td>NaN</td>\n",
       "      <td>NaN</td>\n",
       "      <td>13699</td>\n",
       "    </tr>\n",
       "    <tr>\n",
       "      <th>2354</th>\n",
       "      <td>20/01/2021</td>\n",
       "      <td>Maharashtra</td>\n",
       "      <td>23880.0</td>\n",
       "      <td>1547.0</td>\n",
       "      <td>347.0</td>\n",
       "      <td>23880.0</td>\n",
       "      <td>0.0</td>\n",
       "      <td>9658.0</td>\n",
       "      <td>14205.0</td>\n",
       "      <td>17.0</td>\n",
       "      <td>439.0</td>\n",
       "      <td>23441.0</td>\n",
       "      <td>NaN</td>\n",
       "      <td>NaN</td>\n",
       "      <td>NaN</td>\n",
       "      <td>NaN</td>\n",
       "      <td>NaN</td>\n",
       "      <td>23880</td>\n",
       "    </tr>\n",
       "    <tr>\n",
       "      <th>...</th>\n",
       "      <td>...</td>\n",
       "      <td>...</td>\n",
       "      <td>...</td>\n",
       "      <td>...</td>\n",
       "      <td>...</td>\n",
       "      <td>...</td>\n",
       "      <td>...</td>\n",
       "      <td>...</td>\n",
       "      <td>...</td>\n",
       "      <td>...</td>\n",
       "      <td>...</td>\n",
       "      <td>...</td>\n",
       "      <td>...</td>\n",
       "      <td>...</td>\n",
       "      <td>...</td>\n",
       "      <td>...</td>\n",
       "      <td>...</td>\n",
       "      <td>...</td>\n",
       "    </tr>\n",
       "    <tr>\n",
       "      <th>2454</th>\n",
       "      <td>30/04/2021</td>\n",
       "      <td>Maharashtra</td>\n",
       "      <td>13561437.0</td>\n",
       "      <td>822120.0</td>\n",
       "      <td>5577.0</td>\n",
       "      <td>13561437.0</td>\n",
       "      <td>2622410.0</td>\n",
       "      <td>7294154.0</td>\n",
       "      <td>6265566.0</td>\n",
       "      <td>1717.0</td>\n",
       "      <td>1811340.0</td>\n",
       "      <td>14372507.0</td>\n",
       "      <td>NaN</td>\n",
       "      <td>NaN</td>\n",
       "      <td>NaN</td>\n",
       "      <td>NaN</td>\n",
       "      <td>NaN</td>\n",
       "      <td>16183847</td>\n",
       "    </tr>\n",
       "    <tr>\n",
       "      <th>2455</th>\n",
       "      <td>01/05/2021</td>\n",
       "      <td>Maharashtra</td>\n",
       "      <td>13637082.0</td>\n",
       "      <td>718001.0</td>\n",
       "      <td>4803.0</td>\n",
       "      <td>13637082.0</td>\n",
       "      <td>2655671.0</td>\n",
       "      <td>7336072.0</td>\n",
       "      <td>6299281.0</td>\n",
       "      <td>1729.0</td>\n",
       "      <td>1819842.0</td>\n",
       "      <td>14472911.0</td>\n",
       "      <td>3690.0</td>\n",
       "      <td>490409.0</td>\n",
       "      <td>1284189.0</td>\n",
       "      <td>6245315.0</td>\n",
       "      <td>5615842.0</td>\n",
       "      <td>16292753</td>\n",
       "    </tr>\n",
       "    <tr>\n",
       "      <th>2456</th>\n",
       "      <td>02/05/2021</td>\n",
       "      <td>Maharashtra</td>\n",
       "      <td>13677591.0</td>\n",
       "      <td>571836.0</td>\n",
       "      <td>3628.0</td>\n",
       "      <td>13677591.0</td>\n",
       "      <td>2665223.0</td>\n",
       "      <td>7360208.0</td>\n",
       "      <td>6315650.0</td>\n",
       "      <td>1733.0</td>\n",
       "      <td>1822158.0</td>\n",
       "      <td>14520656.0</td>\n",
       "      <td>3697.0</td>\n",
       "      <td>501503.0</td>\n",
       "      <td>1294982.0</td>\n",
       "      <td>6260563.0</td>\n",
       "      <td>5619437.0</td>\n",
       "      <td>16342814</td>\n",
       "    </tr>\n",
       "    <tr>\n",
       "      <th>2457</th>\n",
       "      <td>03/05/2021</td>\n",
       "      <td>Maharashtra</td>\n",
       "      <td>13739753.0</td>\n",
       "      <td>723175.0</td>\n",
       "      <td>4789.0</td>\n",
       "      <td>13739753.0</td>\n",
       "      <td>2686134.0</td>\n",
       "      <td>7396138.0</td>\n",
       "      <td>6341872.0</td>\n",
       "      <td>1743.0</td>\n",
       "      <td>1831851.0</td>\n",
       "      <td>14594036.0</td>\n",
       "      <td>3715.0</td>\n",
       "      <td>518334.0</td>\n",
       "      <td>1316349.0</td>\n",
       "      <td>6275584.0</td>\n",
       "      <td>5628380.0</td>\n",
       "      <td>16425887</td>\n",
       "    </tr>\n",
       "    <tr>\n",
       "      <th>2458</th>\n",
       "      <td>04/05/2021</td>\n",
       "      <td>Maharashtra</td>\n",
       "      <td>13799328.0</td>\n",
       "      <td>551024.0</td>\n",
       "      <td>4017.0</td>\n",
       "      <td>13799328.0</td>\n",
       "      <td>2729017.0</td>\n",
       "      <td>7430828.0</td>\n",
       "      <td>6366715.0</td>\n",
       "      <td>1785.0</td>\n",
       "      <td>1842007.0</td>\n",
       "      <td>14686338.0</td>\n",
       "      <td>3727.0</td>\n",
       "      <td>536923.0</td>\n",
       "      <td>1339399.0</td>\n",
       "      <td>6286649.0</td>\n",
       "      <td>5635218.0</td>\n",
       "      <td>16528345</td>\n",
       "    </tr>\n",
       "  </tbody>\n",
       "</table>\n",
       "<p>109 rows × 18 columns</p>\n",
       "</div>"
      ],
      "text/plain": [
       "      Updated On        State  Total Individuals Vaccinated  \\\n",
       "2350  16/01/2021  Maharashtra  5726.0                         \n",
       "2351  17/01/2021  Maharashtra  6521.0                         \n",
       "2352  18/01/2021  Maharashtra  6151.0                         \n",
       "2353  19/01/2021  Maharashtra  13699.0                        \n",
       "2354  20/01/2021  Maharashtra  23880.0                        \n",
       "...          ...          ...      ...                        \n",
       "2454  30/04/2021  Maharashtra  13561437.0                     \n",
       "2455  01/05/2021  Maharashtra  13637082.0                     \n",
       "2456  02/05/2021  Maharashtra  13677591.0                     \n",
       "2457  03/05/2021  Maharashtra  13739753.0                     \n",
       "2458  04/05/2021  Maharashtra  13799328.0                     \n",
       "\n",
       "      Total Sessions Conducted  Total Sites   First Dose Administered  \\\n",
       "2350  179.0                     174.0         5726.0                    \n",
       "2351  269.0                     216.0         6521.0                    \n",
       "2352  772.0                     320.0         6151.0                    \n",
       "2353  1196.0                    340.0         13699.0                   \n",
       "2354  1547.0                    347.0         23880.0                   \n",
       "...      ...                      ...             ...                   \n",
       "2454  822120.0                  5577.0        13561437.0                \n",
       "2455  718001.0                  4803.0        13637082.0                \n",
       "2456  571836.0                  3628.0        13677591.0                \n",
       "2457  723175.0                  4789.0        13739753.0                \n",
       "2458  551024.0                  4017.0        13799328.0                \n",
       "\n",
       "      Second Dose Administered  Male(Individuals Vaccinated)  \\\n",
       "2350  0.0                       3668.0                         \n",
       "2351  0.0                       3953.0                         \n",
       "2352  0.0                       3569.0                         \n",
       "2353  0.0                       6328.0                         \n",
       "2354  0.0                       9658.0                         \n",
       "...   ...                          ...                         \n",
       "2454  2622410.0                 7294154.0                      \n",
       "2455  2655671.0                 7336072.0                      \n",
       "2456  2665223.0                 7360208.0                      \n",
       "2457  2686134.0                 7396138.0                      \n",
       "2458  2729017.0                 7430828.0                      \n",
       "\n",
       "      Female(Individuals Vaccinated)  Transgender(Individuals Vaccinated)  \\\n",
       "2350  2057.0                          1.0                                   \n",
       "2351  2566.0                          2.0                                   \n",
       "2352  2581.0                          1.0                                   \n",
       "2353  7367.0                          4.0                                   \n",
       "2354  14205.0                         17.0                                  \n",
       "...       ...                          ...                                  \n",
       "2454  6265566.0                       1717.0                                \n",
       "2455  6299281.0                       1729.0                                \n",
       "2456  6315650.0                       1733.0                                \n",
       "2457  6341872.0                       1743.0                                \n",
       "2458  6366715.0                       1785.0                                \n",
       "\n",
       "      Total Covaxin Administered  Total CoviShield Administered    AEFI  \\\n",
       "2350  85.0                        5641.0                        NaN       \n",
       "2351  94.0                        6427.0                        NaN       \n",
       "2352  105.0                       6046.0                        NaN       \n",
       "2353  214.0                       13485.0                       NaN       \n",
       "2354  439.0                       23441.0                       NaN       \n",
       "...     ...                           ...                        ..       \n",
       "2454  1811340.0                   14372507.0                    NaN       \n",
       "2455  1819842.0                   14472911.0                     3690.0   \n",
       "2456  1822158.0                   14520656.0                     3697.0   \n",
       "2457  1831851.0                   14594036.0                     3715.0   \n",
       "2458  1842007.0                   14686338.0                     3727.0   \n",
       "\n",
       "      18-30 years (Age)  30-45 years (Age)  45-60 years (Age)  \\\n",
       "2350 NaN                NaN                NaN                  \n",
       "2351 NaN                NaN                NaN                  \n",
       "2352 NaN                NaN                NaN                  \n",
       "2353 NaN                NaN                NaN                  \n",
       "2354 NaN                NaN                NaN                  \n",
       "...   ..                 ..                 ..                  \n",
       "2454 NaN                NaN                NaN                  \n",
       "2455  490409.0           1284189.0          6245315.0           \n",
       "2456  501503.0           1294982.0          6260563.0           \n",
       "2457  518334.0           1316349.0          6275584.0           \n",
       "2458  536923.0           1339399.0          6286649.0           \n",
       "\n",
       "      60+ years (Age)  Total Doses Administered  \n",
       "2350 NaN               5726                      \n",
       "2351 NaN               6521                      \n",
       "2352 NaN               6151                      \n",
       "2353 NaN               13699                     \n",
       "2354 NaN               23880                     \n",
       "...   ..                 ...                     \n",
       "2454 NaN               16183847                  \n",
       "2455  5615842.0        16292753                  \n",
       "2456  5619437.0        16342814                  \n",
       "2457  5628380.0        16425887                  \n",
       "2458  5635218.0        16528345                  \n",
       "\n",
       "[109 rows x 18 columns]"
      ]
     },
     "execution_count": 21,
     "metadata": {},
     "output_type": "execute_result"
    }
   ],
   "source": [
    "vdf[vdf['State'] == 'Maharashtra']"
   ]
  },
  {
   "cell_type": "code",
   "execution_count": 11,
   "metadata": {},
   "outputs": [],
   "source": [
    "vdf.dropna(how='all', inplace=True)"
   ]
  },
  {
   "cell_type": "code",
   "execution_count": null,
   "metadata": {},
   "outputs": [],
   "source": [
    "vdf = vdf[['Updated On', 'State', 'Total Individuals Registered', 'First Dose Administered', 'Second Dose Administered', 'Male(Individuals Vaccinated)', 'Female(Individuals Vaccinated)',\n",
    "          'Transgender(Individuals Vaccinated)', 'Total Covaxin Administered', 'Total CoviShield Administered', 'Total Doses Administered']]"
   ]
  },
  {
   "cell_type": "code",
   "execution_count": null,
   "metadata": {},
   "outputs": [],
   "source": [
    "vdf.rename(columns={'Male(Individuals Vaccinated)': 'Male', 'Female(Individuals Vaccinated)': 'Female', 'Transgender(Individuals Vaccinated)': 'Transgender'}, inplace=True)"
   ]
  },
  {
   "cell_type": "code",
   "execution_count": null,
   "metadata": {},
   "outputs": [],
   "source": [
    "x = vdf[vdf['State'] == 'Maharashtra'].to_dict()\n",
    "xx = {k:list(v.values()) for k,v in x.items()}\n",
    "xx"
   ]
  },
  {
   "cell_type": "code",
   "execution_count": null,
   "metadata": {},
   "outputs": [],
   "source": [
    "temp = dict(ddf[ddf['State'] == 'Maharashtra'].iloc[0])\n",
    "tp = {\n",
    "    \"state\": temp.pop(\"State\"),\n",
    "    \"x\": list(temp.keys()),\n",
    "    \"y\": list(temp.values())\n",
    "}\n",
    "tp"
   ]
  },
  {
   "cell_type": "code",
   "execution_count": null,
   "metadata": {},
   "outputs": [],
   "source": [
    "vdf.head()"
   ]
  },
  {
   "cell_type": "code",
   "execution_count": null,
   "metadata": {},
   "outputs": [],
   "source": [
    "for col in vdf.columns[2:]:\n",
    "    vdf[f'delta_{\"_\".join(col.split())}'.lower()] = vdf[col].diff()"
   ]
  },
  {
   "cell_type": "markdown",
   "metadata": {},
   "source": [
    "# Getting all delta values"
   ]
  },
  {
   "cell_type": "code",
   "execution_count": null,
   "metadata": {},
   "outputs": [],
   "source": [
    "samp = vdf[vdf['State'] == 'Kerela']"
   ]
  },
  {
   "cell_type": "code",
   "execution_count": null,
   "metadata": {},
   "outputs": [],
   "source": [
    "samp.tail(4)"
   ]
  },
  {
   "cell_type": "code",
   "execution_count": null,
   "metadata": {},
   "outputs": [],
   "source": [
    "for col in samp.columns[2:]:\n",
    "    samp[f'delta_{\"_\".join(col.split())}'.lower()] = samp[col].diff()\n",
    "    \n",
    "samp.fillna(0.0, axis=1, inplace=True)"
   ]
  },
  {
   "cell_type": "code",
   "execution_count": null,
   "metadata": {},
   "outputs": [],
   "source": [
    "samp.head()"
   ]
  },
  {
   "cell_type": "markdown",
   "metadata": {},
   "source": [
    "# Statistics of Vaccine administration"
   ]
  },
  {
   "cell_type": "code",
   "execution_count": null,
   "metadata": {},
   "outputs": [],
   "source": [
    "samp.describe().apply(lambda s: s.apply('{0:.5f}'.format))"
   ]
  },
  {
   "cell_type": "code",
   "execution_count": null,
   "metadata": {},
   "outputs": [],
   "source": [
    "ss = samp.describe().apply(lambda s: s.apply('{0:.5f}'.format))"
   ]
  },
  {
   "cell_type": "code",
   "execution_count": null,
   "metadata": {},
   "outputs": [],
   "source": [
    "ss.to_dict()"
   ]
  },
  {
   "cell_type": "code",
   "execution_count": null,
   "metadata": {},
   "outputs": [],
   "source": [
    "samp.columns[2:]"
   ]
  },
  {
   "cell_type": "code",
   "execution_count": null,
   "metadata": {},
   "outputs": [],
   "source": [
    "tot = vdf[vdf['State'] == 'India']"
   ]
  },
  {
   "cell_type": "code",
   "execution_count": null,
   "metadata": {},
   "outputs": [],
   "source": [
    "vdf.head()"
   ]
  },
  {
   "cell_type": "code",
   "execution_count": null,
   "metadata": {},
   "outputs": [],
   "source": [
    "tot_dd = dict(vdf[vdf['State'] == \"India\"].iloc[0])"
   ]
  },
  {
   "cell_type": "code",
   "execution_count": null,
   "metadata": {},
   "outputs": [],
   "source": [
    "tot_dd"
   ]
  },
  {
   "cell_type": "code",
   "execution_count": null,
   "metadata": {},
   "outputs": [],
   "source": [
    "vdf.head()"
   ]
  },
  {
   "cell_type": "code",
   "execution_count": null,
   "metadata": {},
   "outputs": [],
   "source": [
    "samp = vdf[vdf['State'] == 'India']"
   ]
  },
  {
   "cell_type": "code",
   "execution_count": null,
   "metadata": {
    "scrolled": false
   },
   "outputs": [],
   "source": [
    "samp.describe().apply(lambda s: s.apply('{0:.5f}'.format)).to_dict()"
   ]
  },
  {
   "cell_type": "code",
   "execution_count": null,
   "metadata": {},
   "outputs": [],
   "source": []
  },
  {
   "cell_type": "code",
   "execution_count": null,
   "metadata": {},
   "outputs": [],
   "source": []
  },
  {
   "cell_type": "code",
   "execution_count": 16,
   "metadata": {},
   "outputs": [],
   "source": [
    "class A:\n",
    "    def xxx(self, xx=2):\n",
    "        self.x = xx  \n",
    "    \n",
    "    def y(self):\n",
    "        print(self.x)"
   ]
  },
  {
   "cell_type": "code",
   "execution_count": 17,
   "metadata": {},
   "outputs": [],
   "source": [
    "s = A()\n",
    "s.xxx()"
   ]
  },
  {
   "cell_type": "code",
   "execution_count": 20,
   "metadata": {},
   "outputs": [
    {
     "name": "stdout",
     "output_type": "stream",
     "text": [
      "22\n"
     ]
    }
   ],
   "source": [
    "s.y()"
   ]
  },
  {
   "cell_type": "code",
   "execution_count": 19,
   "metadata": {},
   "outputs": [],
   "source": [
    "s.xxx(xx=22)"
   ]
  },
  {
   "cell_type": "code",
   "execution_count": 21,
   "metadata": {},
   "outputs": [],
   "source": [
    "s2  = A()"
   ]
  },
  {
   "cell_type": "code",
   "execution_count": 22,
   "metadata": {},
   "outputs": [],
   "source": [
    "s2.xxx(123)"
   ]
  },
  {
   "cell_type": "code",
   "execution_count": 23,
   "metadata": {},
   "outputs": [
    {
     "name": "stdout",
     "output_type": "stream",
     "text": [
      "22\n"
     ]
    }
   ],
   "source": [
    "s.y()"
   ]
  },
  {
   "cell_type": "code",
   "execution_count": 24,
   "metadata": {},
   "outputs": [
    {
     "name": "stdout",
     "output_type": "stream",
     "text": [
      "123\n"
     ]
    }
   ],
   "source": [
    "s2.y()"
   ]
  },
  {
   "cell_type": "code",
   "execution_count": null,
   "metadata": {},
   "outputs": [],
   "source": []
  }
 ],
 "metadata": {
  "kernelspec": {
   "display_name": "Python 3",
   "language": "python",
   "name": "python3"
  },
  "language_info": {
   "codemirror_mode": {
    "name": "ipython",
    "version": 3
   },
   "file_extension": ".py",
   "mimetype": "text/x-python",
   "name": "python",
   "nbconvert_exporter": "python",
   "pygments_lexer": "ipython3",
   "version": "3.6.8"
  }
 },
 "nbformat": 4,
 "nbformat_minor": 2
}
