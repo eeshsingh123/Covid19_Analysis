{
 "cells": [
  {
   "cell_type": "code",
   "execution_count": 2,
   "metadata": {},
   "outputs": [],
   "source": [
    "import pandas as pd\n",
    "pd.set_option('display.max_columns', None)\n",
    "pd.set_option('display.max_colwidth', -1)\n",
    "\n",
    "import os\n",
    "import json\n",
    "BASE_PATH = os.environ.get(\"BASE_PATH\", os.path.join(os.sep, 'Projects', 'Python_projects', 'Covid19_Analysis'))\n",
    "BASE_DATA_PATH = os.environ.get(\"BASE_DATA_PATH\", os.path.join(os.sep, 'Projects', 'Python_projects', 'Covid19_Analysis', 'data'))"
   ]
  },
  {
   "cell_type": "markdown",
   "metadata": {},
   "source": [
    "# Loading various Datasets"
   ]
  },
  {
   "cell_type": "markdown",
   "metadata": {},
   "source": [
    "### timeseries"
   ]
  },
  {
   "cell_type": "code",
   "execution_count": 2,
   "metadata": {},
   "outputs": [
    {
     "data": {
      "text/plain": [
       "(458, 8)"
      ]
     },
     "execution_count": 2,
     "metadata": {},
     "output_type": "execute_result"
    }
   ],
   "source": [
    "ts_df = pd.read_csv('https://api.covid19india.org/csv/latest/case_time_series.csv')\n",
    "ts_df.shape"
   ]
  },
  {
   "cell_type": "code",
   "execution_count": null,
   "metadata": {},
   "outputs": [],
   "source": [
    "total_cases_df = ts_df[['Date', 'Date_YMD', 'Total Confirmed', 'Total Recovered', 'Total Deceased']]\n",
    "daily_cases_df = ts_df[['Date', 'Date_YMD', 'Daily Confirmed', 'Daily Recovered', 'Daily Deceased']]"
   ]
  },
  {
   "cell_type": "code",
   "execution_count": null,
   "metadata": {},
   "outputs": [],
   "source": [
    "total_cases_df.tail()"
   ]
  },
  {
   "cell_type": "code",
   "execution_count": null,
   "metadata": {},
   "outputs": [],
   "source": [
    "tot = {\n",
    "    'name': 'Total Confirmed',\n",
    "    'x': list(total_cases_df['Date']),\n",
    "    'y': list(total_cases_df['Total Confirmed'])\n",
    "}\n",
    "tot"
   ]
  },
  {
   "cell_type": "code",
   "execution_count": null,
   "metadata": {},
   "outputs": [],
   "source": [
    "total_cases_df['Date_YMD'] = pd.to_datetime(total_cases_df['Date_YMD'])"
   ]
  },
  {
   "cell_type": "code",
   "execution_count": null,
   "metadata": {},
   "outputs": [],
   "source": []
  },
  {
   "cell_type": "markdown",
   "metadata": {},
   "source": [
    "### Statewise"
   ]
  },
  {
   "cell_type": "code",
   "execution_count": 9,
   "metadata": {},
   "outputs": [],
   "source": [
    "state_df = pd.read_csv(\"https://api.covid19india.org/csv/latest/state_wise.csv\")\n",
    "# state_daily_df = pd.read_csv(\"https://api.covid19india.org/csv/latest/state_wise_daily.csv\")\n",
    "# state_wise_test_df = pd.read_csv(\"https://api.covid19india.org/csv/latest/statewise_tested_numbers_data.csv\")\n",
    "st_df = pd.read_csv(\"https://api.covid19india.org/csv/latest/states.csv\")"
   ]
  },
  {
   "cell_type": "code",
   "execution_count": 10,
   "metadata": {},
   "outputs": [
    {
     "data": {
      "text/html": [
       "<div>\n",
       "<style scoped>\n",
       "    .dataframe tbody tr th:only-of-type {\n",
       "        vertical-align: middle;\n",
       "    }\n",
       "\n",
       "    .dataframe tbody tr th {\n",
       "        vertical-align: top;\n",
       "    }\n",
       "\n",
       "    .dataframe thead th {\n",
       "        text-align: right;\n",
       "    }\n",
       "</style>\n",
       "<table border=\"1\" class=\"dataframe\">\n",
       "  <thead>\n",
       "    <tr style=\"text-align: right;\">\n",
       "      <th></th>\n",
       "      <th>State</th>\n",
       "      <th>Confirmed</th>\n",
       "      <th>Recovered</th>\n",
       "      <th>Deaths</th>\n",
       "      <th>Active</th>\n",
       "      <th>Last_Updated_Time</th>\n",
       "      <th>Migrated_Other</th>\n",
       "      <th>State_code</th>\n",
       "      <th>Delta_Confirmed</th>\n",
       "      <th>Delta_Recovered</th>\n",
       "      <th>Delta_Deaths</th>\n",
       "    </tr>\n",
       "  </thead>\n",
       "  <tbody>\n",
       "    <tr>\n",
       "      <th>0</th>\n",
       "      <td>Total</td>\n",
       "      <td>19549773</td>\n",
       "      <td>15981938</td>\n",
       "      <td>215524</td>\n",
       "      <td>3343860</td>\n",
       "      <td>2/5/2021 09:50:25</td>\n",
       "      <td>8451</td>\n",
       "      <td>TT</td>\n",
       "      <td>0</td>\n",
       "      <td>0</td>\n",
       "      <td>0</td>\n",
       "    </tr>\n",
       "    <tr>\n",
       "      <th>1</th>\n",
       "      <td>Maharashtra</td>\n",
       "      <td>4665754</td>\n",
       "      <td>3930302</td>\n",
       "      <td>69615</td>\n",
       "      <td>663758</td>\n",
       "      <td>01/05/2021 21:12:25</td>\n",
       "      <td>2079</td>\n",
       "      <td>MH</td>\n",
       "      <td>0</td>\n",
       "      <td>0</td>\n",
       "      <td>0</td>\n",
       "    </tr>\n",
       "    <tr>\n",
       "      <th>2</th>\n",
       "      <td>Kerala</td>\n",
       "      <td>1606820</td>\n",
       "      <td>1277294</td>\n",
       "      <td>5357</td>\n",
       "      <td>323827</td>\n",
       "      <td>01/05/2021 20:08:31</td>\n",
       "      <td>342</td>\n",
       "      <td>KL</td>\n",
       "      <td>0</td>\n",
       "      <td>0</td>\n",
       "      <td>0</td>\n",
       "    </tr>\n",
       "    <tr>\n",
       "      <th>3</th>\n",
       "      <td>Karnataka</td>\n",
       "      <td>1564132</td>\n",
       "      <td>1143250</td>\n",
       "      <td>15794</td>\n",
       "      <td>405068</td>\n",
       "      <td>01/05/2021 20:08:33</td>\n",
       "      <td>20</td>\n",
       "      <td>KA</td>\n",
       "      <td>0</td>\n",
       "      <td>0</td>\n",
       "      <td>0</td>\n",
       "    </tr>\n",
       "    <tr>\n",
       "      <th>4</th>\n",
       "      <td>Andhra Pradesh</td>\n",
       "      <td>1121102</td>\n",
       "      <td>982297</td>\n",
       "      <td>8053</td>\n",
       "      <td>130752</td>\n",
       "      <td>01/05/2021 20:34:31</td>\n",
       "      <td>0</td>\n",
       "      <td>AP</td>\n",
       "      <td>0</td>\n",
       "      <td>0</td>\n",
       "      <td>0</td>\n",
       "    </tr>\n",
       "  </tbody>\n",
       "</table>\n",
       "</div>"
      ],
      "text/plain": [
       "            State  Confirmed  Recovered  Deaths   Active    Last_Updated_Time  \\\n",
       "0  Total           19549773   15981938   215524  3343860  2/5/2021 09:50:25     \n",
       "1  Maharashtra     4665754    3930302    69615   663758   01/05/2021 21:12:25   \n",
       "2  Kerala          1606820    1277294    5357    323827   01/05/2021 20:08:31   \n",
       "3  Karnataka       1564132    1143250    15794   405068   01/05/2021 20:08:33   \n",
       "4  Andhra Pradesh  1121102    982297     8053    130752   01/05/2021 20:34:31   \n",
       "\n",
       "   Migrated_Other State_code  Delta_Confirmed  Delta_Recovered  Delta_Deaths  \n",
       "0  8451            TT         0                0                0             \n",
       "1  2079            MH         0                0                0             \n",
       "2  342             KL         0                0                0             \n",
       "3  20              KA         0                0                0             \n",
       "4  0               AP         0                0                0             "
      ]
     },
     "execution_count": 10,
     "metadata": {},
     "output_type": "execute_result"
    }
   ],
   "source": [
    "state_df.drop('State_Notes', axis=1, inplace=True)\n",
    "state_df.head()"
   ]
  },
  {
   "cell_type": "code",
   "execution_count": 49,
   "metadata": {},
   "outputs": [
    {
     "data": {
      "text/plain": [
       "0    38\n",
       "Name: Delta_Confirmed, dtype: int64"
      ]
     },
     "execution_count": 49,
     "metadata": {},
     "output_type": "execute_result"
    }
   ],
   "source": [
    "state_df['Delta_Confirmed'].value_counts()"
   ]
  },
  {
   "cell_type": "code",
   "execution_count": 27,
   "metadata": {},
   "outputs": [
    {
     "data": {
      "text/plain": [
       "['Maharashtra',\n",
       " 'Kerala',\n",
       " 'Karnataka',\n",
       " 'Uttar Pradesh',\n",
       " 'Tamil Nadu',\n",
       " 'Delhi',\n",
       " 'Andhra Pradesh',\n",
       " 'West Bengal',\n",
       " 'Chhattisgarh',\n",
       " 'Rajasthan']"
      ]
     },
     "execution_count": 27,
     "metadata": {},
     "output_type": "execute_result"
    }
   ],
   "source": [
    "stt = state_df.sort_values('Confirmed', ascending=False)[['State', 'Confirmed']][1:]\n",
    "l = list(stt['State'][:10])\n",
    "l"
   ]
  },
  {
   "cell_type": "code",
   "execution_count": 45,
   "metadata": {},
   "outputs": [],
   "source": [
    "samp = st_df[st_df['State'] == 'Maharashtra']"
   ]
  },
  {
   "cell_type": "code",
   "execution_count": 48,
   "metadata": {},
   "outputs": [
    {
     "data": {
      "text/html": [
       "<div>\n",
       "<style scoped>\n",
       "    .dataframe tbody tr th:only-of-type {\n",
       "        vertical-align: middle;\n",
       "    }\n",
       "\n",
       "    .dataframe tbody tr th {\n",
       "        vertical-align: top;\n",
       "    }\n",
       "\n",
       "    .dataframe thead th {\n",
       "        text-align: right;\n",
       "    }\n",
       "</style>\n",
       "<table border=\"1\" class=\"dataframe\">\n",
       "  <thead>\n",
       "    <tr style=\"text-align: right;\">\n",
       "      <th></th>\n",
       "      <th>Date</th>\n",
       "      <th>State</th>\n",
       "      <th>Confirmed</th>\n",
       "      <th>Recovered</th>\n",
       "      <th>Deceased</th>\n",
       "      <th>Other</th>\n",
       "      <th>Tested</th>\n",
       "    </tr>\n",
       "  </thead>\n",
       "  <tbody>\n",
       "    <tr>\n",
       "      <th>0</th>\n",
       "      <td>2020-01-30</td>\n",
       "      <td>Kerala</td>\n",
       "      <td>1</td>\n",
       "      <td>0</td>\n",
       "      <td>0</td>\n",
       "      <td>0</td>\n",
       "      <td>NaN</td>\n",
       "    </tr>\n",
       "    <tr>\n",
       "      <th>1</th>\n",
       "      <td>2020-01-30</td>\n",
       "      <td>India</td>\n",
       "      <td>1</td>\n",
       "      <td>0</td>\n",
       "      <td>0</td>\n",
       "      <td>0</td>\n",
       "      <td>NaN</td>\n",
       "    </tr>\n",
       "    <tr>\n",
       "      <th>2</th>\n",
       "      <td>2020-02-02</td>\n",
       "      <td>Kerala</td>\n",
       "      <td>2</td>\n",
       "      <td>0</td>\n",
       "      <td>0</td>\n",
       "      <td>0</td>\n",
       "      <td>NaN</td>\n",
       "    </tr>\n",
       "    <tr>\n",
       "      <th>3</th>\n",
       "      <td>2020-02-02</td>\n",
       "      <td>India</td>\n",
       "      <td>2</td>\n",
       "      <td>0</td>\n",
       "      <td>0</td>\n",
       "      <td>0</td>\n",
       "      <td>NaN</td>\n",
       "    </tr>\n",
       "    <tr>\n",
       "      <th>4</th>\n",
       "      <td>2020-02-03</td>\n",
       "      <td>Kerala</td>\n",
       "      <td>3</td>\n",
       "      <td>0</td>\n",
       "      <td>0</td>\n",
       "      <td>0</td>\n",
       "      <td>NaN</td>\n",
       "    </tr>\n",
       "  </tbody>\n",
       "</table>\n",
       "</div>"
      ],
      "text/plain": [
       "         Date   State  Confirmed  Recovered  Deceased  Other  Tested\n",
       "0  2020-01-30  Kerala  1          0          0         0     NaN    \n",
       "1  2020-01-30  India   1          0          0         0     NaN    \n",
       "2  2020-02-02  Kerala  2          0          0         0     NaN    \n",
       "3  2020-02-02  India   2          0          0         0     NaN    \n",
       "4  2020-02-03  Kerala  3          0          0         0     NaN    "
      ]
     },
     "execution_count": 48,
     "metadata": {},
     "output_type": "execute_result"
    }
   ],
   "source": [
    "st_df.head()"
   ]
  },
  {
   "cell_type": "code",
   "execution_count": 46,
   "metadata": {},
   "outputs": [
    {
     "data": {
      "text/html": [
       "<div>\n",
       "<style scoped>\n",
       "    .dataframe tbody tr th:only-of-type {\n",
       "        vertical-align: middle;\n",
       "    }\n",
       "\n",
       "    .dataframe tbody tr th {\n",
       "        vertical-align: top;\n",
       "    }\n",
       "\n",
       "    .dataframe thead th {\n",
       "        text-align: right;\n",
       "    }\n",
       "</style>\n",
       "<table border=\"1\" class=\"dataframe\">\n",
       "  <thead>\n",
       "    <tr style=\"text-align: right;\">\n",
       "      <th></th>\n",
       "      <th>Date</th>\n",
       "      <th>State</th>\n",
       "      <th>Confirmed</th>\n",
       "      <th>Recovered</th>\n",
       "      <th>Deceased</th>\n",
       "      <th>Other</th>\n",
       "      <th>Tested</th>\n",
       "    </tr>\n",
       "  </thead>\n",
       "  <tbody>\n",
       "    <tr>\n",
       "      <th>14747</th>\n",
       "      <td>2021-04-27</td>\n",
       "      <td>Maharashtra</td>\n",
       "      <td>4410085</td>\n",
       "      <td>3669548</td>\n",
       "      <td>66179</td>\n",
       "      <td>1924</td>\n",
       "      <td>26254737.0</td>\n",
       "    </tr>\n",
       "    <tr>\n",
       "      <th>14784</th>\n",
       "      <td>2021-04-28</td>\n",
       "      <td>Maharashtra</td>\n",
       "      <td>4473394</td>\n",
       "      <td>3730729</td>\n",
       "      <td>67214</td>\n",
       "      <td>1970</td>\n",
       "      <td>26527862.0</td>\n",
       "    </tr>\n",
       "    <tr>\n",
       "      <th>14821</th>\n",
       "      <td>2021-04-29</td>\n",
       "      <td>Maharashtra</td>\n",
       "      <td>4539553</td>\n",
       "      <td>3799266</td>\n",
       "      <td>67985</td>\n",
       "      <td>2001</td>\n",
       "      <td>26816075.0</td>\n",
       "    </tr>\n",
       "    <tr>\n",
       "      <th>14858</th>\n",
       "      <td>2021-04-30</td>\n",
       "      <td>Maharashtra</td>\n",
       "      <td>4602472</td>\n",
       "      <td>3868976</td>\n",
       "      <td>68813</td>\n",
       "      <td>2043</td>\n",
       "      <td>27106282.0</td>\n",
       "    </tr>\n",
       "    <tr>\n",
       "      <th>14895</th>\n",
       "      <td>2021-05-01</td>\n",
       "      <td>Maharashtra</td>\n",
       "      <td>4665754</td>\n",
       "      <td>3930302</td>\n",
       "      <td>69615</td>\n",
       "      <td>2079</td>\n",
       "      <td>27395288.0</td>\n",
       "    </tr>\n",
       "  </tbody>\n",
       "</table>\n",
       "</div>"
      ],
      "text/plain": [
       "             Date        State  Confirmed  Recovered  Deceased  Other  \\\n",
       "14747  2021-04-27  Maharashtra  4410085    3669548    66179     1924    \n",
       "14784  2021-04-28  Maharashtra  4473394    3730729    67214     1970    \n",
       "14821  2021-04-29  Maharashtra  4539553    3799266    67985     2001    \n",
       "14858  2021-04-30  Maharashtra  4602472    3868976    68813     2043    \n",
       "14895  2021-05-01  Maharashtra  4665754    3930302    69615     2079    \n",
       "\n",
       "           Tested  \n",
       "14747  26254737.0  \n",
       "14784  26527862.0  \n",
       "14821  26816075.0  \n",
       "14858  27106282.0  \n",
       "14895  27395288.0  "
      ]
     },
     "execution_count": 46,
     "metadata": {},
     "output_type": "execute_result"
    }
   ],
   "source": [
    "samp.tail()"
   ]
  },
  {
   "cell_type": "code",
   "execution_count": 5,
   "metadata": {},
   "outputs": [
    {
     "name": "stderr",
     "output_type": "stream",
     "text": [
      "c:\\projects\\virtual_env\\lib\\site-packages\\ipykernel_launcher.py:2: SettingWithCopyWarning: \n",
      "A value is trying to be set on a copy of a slice from a DataFrame.\n",
      "Try using .loc[row_indexer,col_indexer] = value instead\n",
      "\n",
      "See the caveats in the documentation: http://pandas.pydata.org/pandas-docs/stable/user_guide/indexing.html#returning-a-view-versus-a-copy\n",
      "  \n",
      "c:\\projects\\virtual_env\\lib\\site-packages\\pandas\\core\\frame.py:4259: SettingWithCopyWarning: \n",
      "A value is trying to be set on a copy of a slice from a DataFrame\n",
      "\n",
      "See the caveats in the documentation: http://pandas.pydata.org/pandas-docs/stable/user_guide/indexing.html#returning-a-view-versus-a-copy\n",
      "  **kwargs\n"
     ]
    }
   ],
   "source": [
    "for col in samp.columns[2:]:\n",
    "    samp[f'Daily {\" \".join(col.split())}'] = samp[col].diff()\n",
    "    \n",
    "samp.fillna(0.0, axis=1, inplace=True)"
   ]
  },
  {
   "cell_type": "code",
   "execution_count": 6,
   "metadata": {},
   "outputs": [
    {
     "data": {
      "text/html": [
       "<div>\n",
       "<style scoped>\n",
       "    .dataframe tbody tr th:only-of-type {\n",
       "        vertical-align: middle;\n",
       "    }\n",
       "\n",
       "    .dataframe tbody tr th {\n",
       "        vertical-align: top;\n",
       "    }\n",
       "\n",
       "    .dataframe thead th {\n",
       "        text-align: right;\n",
       "    }\n",
       "</style>\n",
       "<table border=\"1\" class=\"dataframe\">\n",
       "  <thead>\n",
       "    <tr style=\"text-align: right;\">\n",
       "      <th></th>\n",
       "      <th>Date</th>\n",
       "      <th>State</th>\n",
       "      <th>Confirmed</th>\n",
       "      <th>Recovered</th>\n",
       "      <th>Deceased</th>\n",
       "      <th>Other</th>\n",
       "      <th>Tested</th>\n",
       "      <th>Daily Confirmed</th>\n",
       "      <th>Daily Recovered</th>\n",
       "      <th>Daily Deceased</th>\n",
       "      <th>Daily Other</th>\n",
       "      <th>Daily Tested</th>\n",
       "    </tr>\n",
       "  </thead>\n",
       "  <tbody>\n",
       "    <tr>\n",
       "      <th>14747</th>\n",
       "      <td>2021-04-27</td>\n",
       "      <td>Maharashtra</td>\n",
       "      <td>4410085</td>\n",
       "      <td>3669548</td>\n",
       "      <td>66179</td>\n",
       "      <td>1924</td>\n",
       "      <td>26254737.0</td>\n",
       "      <td>66358.0</td>\n",
       "      <td>67752.0</td>\n",
       "      <td>895.0</td>\n",
       "      <td>47.0</td>\n",
       "      <td>282719.0</td>\n",
       "    </tr>\n",
       "    <tr>\n",
       "      <th>14784</th>\n",
       "      <td>2021-04-28</td>\n",
       "      <td>Maharashtra</td>\n",
       "      <td>4473394</td>\n",
       "      <td>3730729</td>\n",
       "      <td>67214</td>\n",
       "      <td>1970</td>\n",
       "      <td>26527862.0</td>\n",
       "      <td>63309.0</td>\n",
       "      <td>61181.0</td>\n",
       "      <td>1035.0</td>\n",
       "      <td>46.0</td>\n",
       "      <td>273125.0</td>\n",
       "    </tr>\n",
       "    <tr>\n",
       "      <th>14821</th>\n",
       "      <td>2021-04-29</td>\n",
       "      <td>Maharashtra</td>\n",
       "      <td>4539553</td>\n",
       "      <td>3799266</td>\n",
       "      <td>67985</td>\n",
       "      <td>2001</td>\n",
       "      <td>26816075.0</td>\n",
       "      <td>66159.0</td>\n",
       "      <td>68537.0</td>\n",
       "      <td>771.0</td>\n",
       "      <td>31.0</td>\n",
       "      <td>288213.0</td>\n",
       "    </tr>\n",
       "    <tr>\n",
       "      <th>14858</th>\n",
       "      <td>2021-04-30</td>\n",
       "      <td>Maharashtra</td>\n",
       "      <td>4602472</td>\n",
       "      <td>3868976</td>\n",
       "      <td>68813</td>\n",
       "      <td>2043</td>\n",
       "      <td>27106282.0</td>\n",
       "      <td>62919.0</td>\n",
       "      <td>69710.0</td>\n",
       "      <td>828.0</td>\n",
       "      <td>42.0</td>\n",
       "      <td>290207.0</td>\n",
       "    </tr>\n",
       "    <tr>\n",
       "      <th>14895</th>\n",
       "      <td>2021-05-01</td>\n",
       "      <td>Maharashtra</td>\n",
       "      <td>4665754</td>\n",
       "      <td>3930302</td>\n",
       "      <td>69615</td>\n",
       "      <td>2079</td>\n",
       "      <td>27395288.0</td>\n",
       "      <td>63282.0</td>\n",
       "      <td>61326.0</td>\n",
       "      <td>802.0</td>\n",
       "      <td>36.0</td>\n",
       "      <td>289006.0</td>\n",
       "    </tr>\n",
       "  </tbody>\n",
       "</table>\n",
       "</div>"
      ],
      "text/plain": [
       "             Date        State  Confirmed  Recovered  Deceased  Other  \\\n",
       "14747  2021-04-27  Maharashtra  4410085    3669548    66179     1924    \n",
       "14784  2021-04-28  Maharashtra  4473394    3730729    67214     1970    \n",
       "14821  2021-04-29  Maharashtra  4539553    3799266    67985     2001    \n",
       "14858  2021-04-30  Maharashtra  4602472    3868976    68813     2043    \n",
       "14895  2021-05-01  Maharashtra  4665754    3930302    69615     2079    \n",
       "\n",
       "           Tested  Daily Confirmed  Daily Recovered  Daily Deceased  \\\n",
       "14747  26254737.0  66358.0          67752.0          895.0            \n",
       "14784  26527862.0  63309.0          61181.0          1035.0           \n",
       "14821  26816075.0  66159.0          68537.0          771.0            \n",
       "14858  27106282.0  62919.0          69710.0          828.0            \n",
       "14895  27395288.0  63282.0          61326.0          802.0            \n",
       "\n",
       "       Daily Other  Daily Tested  \n",
       "14747  47.0         282719.0      \n",
       "14784  46.0         273125.0      \n",
       "14821  31.0         288213.0      \n",
       "14858  42.0         290207.0      \n",
       "14895  36.0         289006.0      "
      ]
     },
     "execution_count": 6,
     "metadata": {},
     "output_type": "execute_result"
    }
   ],
   "source": [
    "samp.tail()"
   ]
  },
  {
   "cell_type": "code",
   "execution_count": 7,
   "metadata": {},
   "outputs": [
    {
     "data": {
      "text/html": [
       "<div>\n",
       "<style scoped>\n",
       "    .dataframe tbody tr th:only-of-type {\n",
       "        vertical-align: middle;\n",
       "    }\n",
       "\n",
       "    .dataframe tbody tr th {\n",
       "        vertical-align: top;\n",
       "    }\n",
       "\n",
       "    .dataframe thead th {\n",
       "        text-align: right;\n",
       "    }\n",
       "</style>\n",
       "<table border=\"1\" class=\"dataframe\">\n",
       "  <thead>\n",
       "    <tr style=\"text-align: right;\">\n",
       "      <th></th>\n",
       "      <th>State</th>\n",
       "      <th>Confirmed</th>\n",
       "      <th>Recovered</th>\n",
       "      <th>Deaths</th>\n",
       "      <th>Active</th>\n",
       "      <th>Last_Updated_Time</th>\n",
       "      <th>Migrated_Other</th>\n",
       "      <th>State_code</th>\n",
       "      <th>Delta_Confirmed</th>\n",
       "      <th>Delta_Recovered</th>\n",
       "      <th>Delta_Deaths</th>\n",
       "    </tr>\n",
       "  </thead>\n",
       "  <tbody>\n",
       "    <tr>\n",
       "      <th>33</th>\n",
       "      <td>Andaman and Nicobar Islands</td>\n",
       "      <td>6046</td>\n",
       "      <td>5773</td>\n",
       "      <td>68</td>\n",
       "      <td>205</td>\n",
       "      <td>01/05/2021 23:53:43</td>\n",
       "      <td>0</td>\n",
       "      <td>AN</td>\n",
       "      <td>0</td>\n",
       "      <td>0</td>\n",
       "      <td>0</td>\n",
       "    </tr>\n",
       "    <tr>\n",
       "      <th>34</th>\n",
       "      <td>Mizoram</td>\n",
       "      <td>6132</td>\n",
       "      <td>4926</td>\n",
       "      <td>15</td>\n",
       "      <td>1191</td>\n",
       "      <td>01/05/2021 13:30:27</td>\n",
       "      <td>0</td>\n",
       "      <td>MZ</td>\n",
       "      <td>0</td>\n",
       "      <td>0</td>\n",
       "      <td>0</td>\n",
       "    </tr>\n",
       "    <tr>\n",
       "      <th>35</th>\n",
       "      <td>Dadra and Nagar Haveli and Daman and Diu</td>\n",
       "      <td>7873</td>\n",
       "      <td>5826</td>\n",
       "      <td>4</td>\n",
       "      <td>2011</td>\n",
       "      <td>01/05/2021 22:25:58</td>\n",
       "      <td>32</td>\n",
       "      <td>DN</td>\n",
       "      <td>0</td>\n",
       "      <td>0</td>\n",
       "      <td>0</td>\n",
       "    </tr>\n",
       "    <tr>\n",
       "      <th>36</th>\n",
       "      <td>Lakshadweep</td>\n",
       "      <td>2923</td>\n",
       "      <td>1471</td>\n",
       "      <td>4</td>\n",
       "      <td>1438</td>\n",
       "      <td>01/05/2021 22:26:00</td>\n",
       "      <td>10</td>\n",
       "      <td>LD</td>\n",
       "      <td>0</td>\n",
       "      <td>0</td>\n",
       "      <td>0</td>\n",
       "    </tr>\n",
       "    <tr>\n",
       "      <th>37</th>\n",
       "      <td>State Unassigned</td>\n",
       "      <td>0</td>\n",
       "      <td>0</td>\n",
       "      <td>0</td>\n",
       "      <td>0</td>\n",
       "      <td>19/07/2020 09:40:01</td>\n",
       "      <td>0</td>\n",
       "      <td>UN</td>\n",
       "      <td>0</td>\n",
       "      <td>0</td>\n",
       "      <td>0</td>\n",
       "    </tr>\n",
       "  </tbody>\n",
       "</table>\n",
       "</div>"
      ],
      "text/plain": [
       "                                       State  Confirmed  Recovered  Deaths  \\\n",
       "33  Andaman and Nicobar Islands               6046       5773       68       \n",
       "34  Mizoram                                   6132       4926       15       \n",
       "35  Dadra and Nagar Haveli and Daman and Diu  7873       5826       4        \n",
       "36  Lakshadweep                               2923       1471       4        \n",
       "37  State Unassigned                          0          0          0        \n",
       "\n",
       "    Active    Last_Updated_Time  Migrated_Other State_code  Delta_Confirmed  \\\n",
       "33  205     01/05/2021 23:53:43  0               AN         0                 \n",
       "34  1191    01/05/2021 13:30:27  0               MZ         0                 \n",
       "35  2011    01/05/2021 22:25:58  32              DN         0                 \n",
       "36  1438    01/05/2021 22:26:00  10              LD         0                 \n",
       "37  0       19/07/2020 09:40:01  0               UN         0                 \n",
       "\n",
       "    Delta_Recovered  Delta_Deaths  \n",
       "33  0                0             \n",
       "34  0                0             \n",
       "35  0                0             \n",
       "36  0                0             \n",
       "37  0                0             "
      ]
     },
     "execution_count": 7,
     "metadata": {},
     "output_type": "execute_result"
    }
   ],
   "source": [
    "state_df.tail()"
   ]
  },
  {
   "cell_type": "code",
   "execution_count": null,
   "metadata": {},
   "outputs": [],
   "source": [
    "state_df.drop('State_Notes', axis=1, inplace=True)"
   ]
  },
  {
   "cell_type": "code",
   "execution_count": null,
   "metadata": {},
   "outputs": [],
   "source": [
    "st_list = list(state_df['State'][1:])"
   ]
  },
  {
   "cell_type": "code",
   "execution_count": null,
   "metadata": {},
   "outputs": [],
   "source": [
    "state_df.head()"
   ]
  },
  {
   "cell_type": "code",
   "execution_count": null,
   "metadata": {},
   "outputs": [],
   "source": [
    "ss = dict(state_df.loc[1, :])\n",
    "ss\n",
    "# ss = {column: col_val for column, col_val in ss.items() if column != 'State'}"
   ]
  },
  {
   "cell_type": "code",
   "execution_count": null,
   "metadata": {},
   "outputs": [],
   "source": [
    "{k:vv for k,v in ss.items() for kk,vv in v.items() if k != \"State\"}"
   ]
  },
  {
   "cell_type": "code",
   "execution_count": null,
   "metadata": {},
   "outputs": [],
   "source": [
    "state_code_mapper = {k:v for k,v in zip(state_df['State_code'], state_df['State'])}\n",
    "state_code_mapper"
   ]
  },
  {
   "cell_type": "code",
   "execution_count": null,
   "metadata": {},
   "outputs": [],
   "source": [
    "with open(f'{BASE_DATA_PATH}\\\\default_objects\\\\state_code_mapper.json', 'w', encoding='utf-8') as fp:\n",
    "    json.dump(state_code_mapper, fp)"
   ]
  },
  {
   "cell_type": "code",
   "execution_count": null,
   "metadata": {},
   "outputs": [],
   "source": [
    "state_daily_df.columns = [state_code_mapper.get(i,i) for i in state_daily_df.columns]\n",
    "state_daily_df.drop('State Unassigned', axis=1, inplace=True)"
   ]
  },
  {
   "cell_type": "code",
   "execution_count": null,
   "metadata": {},
   "outputs": [],
   "source": [
    "x = st_df[st_df['State'] == 'Maharashtra']\n",
    "x.fillna(0.0, axis=1, inplace=True)\n",
    "x.tail()"
   ]
  },
  {
   "cell_type": "code",
   "execution_count": null,
   "metadata": {},
   "outputs": [],
   "source": [
    "import gc\n",
    "gc.collect()"
   ]
  },
  {
   "cell_type": "code",
   "execution_count": null,
   "metadata": {},
   "outputs": [],
   "source": [
    "import gc \n",
    "gc.collect()"
   ]
  },
  {
   "cell_type": "markdown",
   "metadata": {},
   "source": [
    "### Districts"
   ]
  },
  {
   "cell_type": "code",
   "execution_count": null,
   "metadata": {},
   "outputs": [],
   "source": [
    "dist_df = pd.read_csv(\"https://api.covid19india.org/csv/latest/districts.csv\")\n",
    "dist_df.head()"
   ]
  },
  {
   "cell_type": "code",
   "execution_count": null,
   "metadata": {},
   "outputs": [],
   "source": [
    "dist_df[(dist_df['State'] == 'Maharashtra') & (dist_df['District'] == 'Ahmednagar')]"
   ]
  },
  {
   "cell_type": "code",
   "execution_count": null,
   "metadata": {},
   "outputs": [],
   "source": [
    "dd = pd.read_csv(\"https://api.covid19india.org/csv/latest/district_wise.csv\")\n",
    "dd.head()"
   ]
  },
  {
   "cell_type": "code",
   "execution_count": null,
   "metadata": {},
   "outputs": [],
   "source": [
    "dd[(dd['State'] == 'Maharashtra') & (dd['District'] == 'Ahmednagar')]"
   ]
  },
  {
   "cell_type": "markdown",
   "metadata": {},
   "source": [
    "## MASTER DATA - beds, ventilators"
   ]
  },
  {
   "cell_type": "markdown",
   "metadata": {},
   "source": [
    "#### - Most of the data is NAN"
   ]
  },
  {
   "cell_type": "code",
   "execution_count": null,
   "metadata": {},
   "outputs": [],
   "source": [
    "df = pd.read_csv(\"https://api.covid19india.org/csv/latest/statewise_tested_numbers_data.csv\")"
   ]
  },
  {
   "cell_type": "code",
   "execution_count": null,
   "metadata": {},
   "outputs": [],
   "source": [
    "df.tail()"
   ]
  },
  {
   "cell_type": "code",
   "execution_count": null,
   "metadata": {},
   "outputs": [],
   "source": [
    "bed_cols = [i for i in df.columns if \"bed\" in i.lower()]\n",
    "bed_df = df[[\"Updated On\", \"State\"] + ['People on Ventilator', 'Total Num Ventilators'] + bed_cols]\n",
    "bed_df.shape"
   ]
  },
  {
   "cell_type": "code",
   "execution_count": null,
   "metadata": {},
   "outputs": [],
   "source": [
    "bed_df[bed_df['State'] == \"Delhi\"].tail(20)"
   ]
  },
  {
   "cell_type": "code",
   "execution_count": null,
   "metadata": {},
   "outputs": [],
   "source": [
    "[i for i in df.columns if \"ventilator\" in i.lower()]"
   ]
  },
  {
   "cell_type": "code",
   "execution_count": null,
   "metadata": {},
   "outputs": [],
   "source": [
    "df[df['State'] == 'Mah'].tail(50)"
   ]
  },
  {
   "cell_type": "markdown",
   "metadata": {},
   "source": [
    "## Vaccine data"
   ]
  },
  {
   "cell_type": "code",
   "execution_count": 3,
   "metadata": {},
   "outputs": [],
   "source": [
    "vdf = pd.read_csv(\"http://api.covid19india.org/csv/latest/cowin_vaccine_data_statewise.csv\")"
   ]
  },
  {
   "cell_type": "code",
   "execution_count": 4,
   "metadata": {},
   "outputs": [
    {
     "data": {
      "text/html": [
       "<div>\n",
       "<style scoped>\n",
       "    .dataframe tbody tr th:only-of-type {\n",
       "        vertical-align: middle;\n",
       "    }\n",
       "\n",
       "    .dataframe tbody tr th {\n",
       "        vertical-align: top;\n",
       "    }\n",
       "\n",
       "    .dataframe thead th {\n",
       "        text-align: right;\n",
       "    }\n",
       "</style>\n",
       "<table border=\"1\" class=\"dataframe\">\n",
       "  <thead>\n",
       "    <tr style=\"text-align: right;\">\n",
       "      <th></th>\n",
       "      <th>Updated On</th>\n",
       "      <th>State</th>\n",
       "      <th>Total Individuals Vaccinated</th>\n",
       "      <th>Total Sessions Conducted</th>\n",
       "      <th>Total Sites</th>\n",
       "      <th>First Dose Administered</th>\n",
       "      <th>Second Dose Administered</th>\n",
       "      <th>Male(Individuals Vaccinated)</th>\n",
       "      <th>Female(Individuals Vaccinated)</th>\n",
       "      <th>Transgender(Individuals Vaccinated)</th>\n",
       "      <th>Total Covaxin Administered</th>\n",
       "      <th>Total CoviShield Administered</th>\n",
       "      <th>AEFI</th>\n",
       "      <th>18-30 years (Age)</th>\n",
       "      <th>30-45 years (Age)</th>\n",
       "      <th>45-60 years (Age)</th>\n",
       "      <th>60+ years (Age)</th>\n",
       "      <th>Total Doses Administered</th>\n",
       "    </tr>\n",
       "  </thead>\n",
       "  <tbody>\n",
       "    <tr>\n",
       "      <th>0</th>\n",
       "      <td>16/01/2021</td>\n",
       "      <td>India</td>\n",
       "      <td>48276.0</td>\n",
       "      <td>3455.0</td>\n",
       "      <td>2957.0</td>\n",
       "      <td>48276.0</td>\n",
       "      <td>0.0</td>\n",
       "      <td>23757.0</td>\n",
       "      <td>24517.0</td>\n",
       "      <td>2.0</td>\n",
       "      <td>579.0</td>\n",
       "      <td>47697.0</td>\n",
       "      <td>NaN</td>\n",
       "      <td>NaN</td>\n",
       "      <td>NaN</td>\n",
       "      <td>NaN</td>\n",
       "      <td>NaN</td>\n",
       "      <td>48276</td>\n",
       "    </tr>\n",
       "    <tr>\n",
       "      <th>1</th>\n",
       "      <td>17/01/2021</td>\n",
       "      <td>India</td>\n",
       "      <td>58604.0</td>\n",
       "      <td>8532.0</td>\n",
       "      <td>4954.0</td>\n",
       "      <td>58604.0</td>\n",
       "      <td>0.0</td>\n",
       "      <td>27348.0</td>\n",
       "      <td>31252.0</td>\n",
       "      <td>4.0</td>\n",
       "      <td>635.0</td>\n",
       "      <td>57969.0</td>\n",
       "      <td>NaN</td>\n",
       "      <td>NaN</td>\n",
       "      <td>NaN</td>\n",
       "      <td>NaN</td>\n",
       "      <td>NaN</td>\n",
       "      <td>58604</td>\n",
       "    </tr>\n",
       "    <tr>\n",
       "      <th>2</th>\n",
       "      <td>18/01/2021</td>\n",
       "      <td>India</td>\n",
       "      <td>99449.0</td>\n",
       "      <td>13611.0</td>\n",
       "      <td>6583.0</td>\n",
       "      <td>99449.0</td>\n",
       "      <td>0.0</td>\n",
       "      <td>41361.0</td>\n",
       "      <td>58083.0</td>\n",
       "      <td>5.0</td>\n",
       "      <td>1299.0</td>\n",
       "      <td>98150.0</td>\n",
       "      <td>NaN</td>\n",
       "      <td>NaN</td>\n",
       "      <td>NaN</td>\n",
       "      <td>NaN</td>\n",
       "      <td>NaN</td>\n",
       "      <td>99449</td>\n",
       "    </tr>\n",
       "    <tr>\n",
       "      <th>3</th>\n",
       "      <td>19/01/2021</td>\n",
       "      <td>India</td>\n",
       "      <td>195525.0</td>\n",
       "      <td>17855.0</td>\n",
       "      <td>7951.0</td>\n",
       "      <td>195525.0</td>\n",
       "      <td>0.0</td>\n",
       "      <td>81901.0</td>\n",
       "      <td>113613.0</td>\n",
       "      <td>11.0</td>\n",
       "      <td>3017.0</td>\n",
       "      <td>192508.0</td>\n",
       "      <td>NaN</td>\n",
       "      <td>NaN</td>\n",
       "      <td>NaN</td>\n",
       "      <td>NaN</td>\n",
       "      <td>NaN</td>\n",
       "      <td>195525</td>\n",
       "    </tr>\n",
       "    <tr>\n",
       "      <th>4</th>\n",
       "      <td>20/01/2021</td>\n",
       "      <td>India</td>\n",
       "      <td>251280.0</td>\n",
       "      <td>25472.0</td>\n",
       "      <td>10504.0</td>\n",
       "      <td>251280.0</td>\n",
       "      <td>0.0</td>\n",
       "      <td>98111.0</td>\n",
       "      <td>153145.0</td>\n",
       "      <td>24.0</td>\n",
       "      <td>3946.0</td>\n",
       "      <td>247334.0</td>\n",
       "      <td>NaN</td>\n",
       "      <td>NaN</td>\n",
       "      <td>NaN</td>\n",
       "      <td>NaN</td>\n",
       "      <td>NaN</td>\n",
       "      <td>251280</td>\n",
       "    </tr>\n",
       "    <tr>\n",
       "      <th>...</th>\n",
       "      <td>...</td>\n",
       "      <td>...</td>\n",
       "      <td>...</td>\n",
       "      <td>...</td>\n",
       "      <td>...</td>\n",
       "      <td>...</td>\n",
       "      <td>...</td>\n",
       "      <td>...</td>\n",
       "      <td>...</td>\n",
       "      <td>...</td>\n",
       "      <td>...</td>\n",
       "      <td>...</td>\n",
       "      <td>...</td>\n",
       "      <td>...</td>\n",
       "      <td>...</td>\n",
       "      <td>...</td>\n",
       "      <td>...</td>\n",
       "      <td>...</td>\n",
       "    </tr>\n",
       "    <tr>\n",
       "      <th>102</th>\n",
       "      <td>28/04/2021</td>\n",
       "      <td>India</td>\n",
       "      <td>122538179.0</td>\n",
       "      <td>8123540.0</td>\n",
       "      <td>57439.0</td>\n",
       "      <td>122538179.0</td>\n",
       "      <td>24515213.0</td>\n",
       "      <td>63938524.0</td>\n",
       "      <td>58583701.0</td>\n",
       "      <td>15954.0</td>\n",
       "      <td>13636237.0</td>\n",
       "      <td>133417155.0</td>\n",
       "      <td>19657.0</td>\n",
       "      <td>4606956.0</td>\n",
       "      <td>9950981.0</td>\n",
       "      <td>55978822.0</td>\n",
       "      <td>51980128.0</td>\n",
       "      <td>147053392</td>\n",
       "    </tr>\n",
       "    <tr>\n",
       "      <th>103</th>\n",
       "      <td>29/04/2021</td>\n",
       "      <td>India</td>\n",
       "      <td>123811908.0</td>\n",
       "      <td>8593203.0</td>\n",
       "      <td>61628.0</td>\n",
       "      <td>123811908.0</td>\n",
       "      <td>25456864.0</td>\n",
       "      <td>64611787.0</td>\n",
       "      <td>59183960.0</td>\n",
       "      <td>16161.0</td>\n",
       "      <td>13926050.0</td>\n",
       "      <td>135342722.0</td>\n",
       "      <td>19753.0</td>\n",
       "      <td>4641395.0</td>\n",
       "      <td>10024708.0</td>\n",
       "      <td>56743187.0</td>\n",
       "      <td>52384617.0</td>\n",
       "      <td>149268772</td>\n",
       "    </tr>\n",
       "    <tr>\n",
       "      <th>104</th>\n",
       "      <td>30/04/2021</td>\n",
       "      <td>India</td>\n",
       "      <td>125376952.0</td>\n",
       "      <td>8996730.0</td>\n",
       "      <td>64042.0</td>\n",
       "      <td>125376952.0</td>\n",
       "      <td>26621155.0</td>\n",
       "      <td>65445771.0</td>\n",
       "      <td>59914751.0</td>\n",
       "      <td>16430.0</td>\n",
       "      <td>14178643.0</td>\n",
       "      <td>137819464.0</td>\n",
       "      <td>19766.0</td>\n",
       "      <td>4646709.0</td>\n",
       "      <td>10036487.0</td>\n",
       "      <td>56872874.0</td>\n",
       "      <td>52456907.0</td>\n",
       "      <td>151998107</td>\n",
       "    </tr>\n",
       "    <tr>\n",
       "      <th>105</th>\n",
       "      <td>01/05/2021</td>\n",
       "      <td>India</td>\n",
       "      <td>126328970.0</td>\n",
       "      <td>8022399.0</td>\n",
       "      <td>56966.0</td>\n",
       "      <td>126328970.0</td>\n",
       "      <td>27297355.0</td>\n",
       "      <td>65972485.0</td>\n",
       "      <td>60339903.0</td>\n",
       "      <td>16582.0</td>\n",
       "      <td>14369918.0</td>\n",
       "      <td>139256407.0</td>\n",
       "      <td>19850.0</td>\n",
       "      <td>4759459.0</td>\n",
       "      <td>10240010.0</td>\n",
       "      <td>58198124.0</td>\n",
       "      <td>53112963.0</td>\n",
       "      <td>153626325</td>\n",
       "    </tr>\n",
       "    <tr>\n",
       "      <th>106</th>\n",
       "      <td>02/05/2021</td>\n",
       "      <td>India</td>\n",
       "      <td>126704151.0</td>\n",
       "      <td>5396932.0</td>\n",
       "      <td>38359.0</td>\n",
       "      <td>126704151.0</td>\n",
       "      <td>27507360.0</td>\n",
       "      <td>66183753.0</td>\n",
       "      <td>60503747.0</td>\n",
       "      <td>16651.0</td>\n",
       "      <td>14417017.0</td>\n",
       "      <td>139794494.0</td>\n",
       "      <td>19868.0</td>\n",
       "      <td>4801112.0</td>\n",
       "      <td>10256055.0</td>\n",
       "      <td>58438144.0</td>\n",
       "      <td>53191783.0</td>\n",
       "      <td>154211511</td>\n",
       "    </tr>\n",
       "  </tbody>\n",
       "</table>\n",
       "<p>107 rows × 18 columns</p>\n",
       "</div>"
      ],
      "text/plain": [
       "     Updated On  State  Total Individuals Vaccinated  \\\n",
       "0    16/01/2021  India  48276.0                        \n",
       "1    17/01/2021  India  58604.0                        \n",
       "2    18/01/2021  India  99449.0                        \n",
       "3    19/01/2021  India  195525.0                       \n",
       "4    20/01/2021  India  251280.0                       \n",
       "..          ...    ...       ...                       \n",
       "102  28/04/2021  India  122538179.0                    \n",
       "103  29/04/2021  India  123811908.0                    \n",
       "104  30/04/2021  India  125376952.0                    \n",
       "105  01/05/2021  India  126328970.0                    \n",
       "106  02/05/2021  India  126704151.0                    \n",
       "\n",
       "     Total Sessions Conducted  Total Sites   First Dose Administered  \\\n",
       "0    3455.0                    2957.0        48276.0                   \n",
       "1    8532.0                    4954.0        58604.0                   \n",
       "2    13611.0                   6583.0        99449.0                   \n",
       "3    17855.0                   7951.0        195525.0                  \n",
       "4    25472.0                   10504.0       251280.0                  \n",
       "..       ...                       ...            ...                  \n",
       "102  8123540.0                 57439.0       122538179.0               \n",
       "103  8593203.0                 61628.0       123811908.0               \n",
       "104  8996730.0                 64042.0       125376952.0               \n",
       "105  8022399.0                 56966.0       126328970.0               \n",
       "106  5396932.0                 38359.0       126704151.0               \n",
       "\n",
       "     Second Dose Administered  Male(Individuals Vaccinated)  \\\n",
       "0    0.0                       23757.0                        \n",
       "1    0.0                       27348.0                        \n",
       "2    0.0                       41361.0                        \n",
       "3    0.0                       81901.0                        \n",
       "4    0.0                       98111.0                        \n",
       "..   ...                           ...                        \n",
       "102  24515213.0                63938524.0                     \n",
       "103  25456864.0                64611787.0                     \n",
       "104  26621155.0                65445771.0                     \n",
       "105  27297355.0                65972485.0                     \n",
       "106  27507360.0                66183753.0                     \n",
       "\n",
       "     Female(Individuals Vaccinated)  Transgender(Individuals Vaccinated)  \\\n",
       "0    24517.0                         2.0                                   \n",
       "1    31252.0                         4.0                                   \n",
       "2    58083.0                         5.0                                   \n",
       "3    113613.0                        11.0                                  \n",
       "4    153145.0                        24.0                                  \n",
       "..        ...                         ...                                  \n",
       "102  58583701.0                      15954.0                               \n",
       "103  59183960.0                      16161.0                               \n",
       "104  59914751.0                      16430.0                               \n",
       "105  60339903.0                      16582.0                               \n",
       "106  60503747.0                      16651.0                               \n",
       "\n",
       "     Total Covaxin Administered  Total CoviShield Administered     AEFI  \\\n",
       "0    579.0                       47697.0                       NaN        \n",
       "1    635.0                       57969.0                       NaN        \n",
       "2    1299.0                      98150.0                       NaN        \n",
       "3    3017.0                      192508.0                      NaN        \n",
       "4    3946.0                      247334.0                      NaN        \n",
       "..      ...                           ...                       ..        \n",
       "102  13636237.0                  133417155.0                    19657.0   \n",
       "103  13926050.0                  135342722.0                    19753.0   \n",
       "104  14178643.0                  137819464.0                    19766.0   \n",
       "105  14369918.0                  139256407.0                    19850.0   \n",
       "106  14417017.0                  139794494.0                    19868.0   \n",
       "\n",
       "     18-30 years (Age)  30-45 years (Age)  45-60 years (Age)  60+ years (Age)  \\\n",
       "0   NaN                NaN                NaN                NaN                \n",
       "1   NaN                NaN                NaN                NaN                \n",
       "2   NaN                NaN                NaN                NaN                \n",
       "3   NaN                NaN                NaN                NaN                \n",
       "4   NaN                NaN                NaN                NaN                \n",
       "..   ..                 ..                 ..                 ..                \n",
       "102  4606956.0          9950981.0          55978822.0         51980128.0        \n",
       "103  4641395.0          10024708.0         56743187.0         52384617.0        \n",
       "104  4646709.0          10036487.0         56872874.0         52456907.0        \n",
       "105  4759459.0          10240010.0         58198124.0         53112963.0        \n",
       "106  4801112.0          10256055.0         58438144.0         53191783.0        \n",
       "\n",
       "     Total Doses Administered  \n",
       "0    48276                     \n",
       "1    58604                     \n",
       "2    99449                     \n",
       "3    195525                    \n",
       "4    251280                    \n",
       "..      ...                    \n",
       "102  147053392                 \n",
       "103  149268772                 \n",
       "104  151998107                 \n",
       "105  153626325                 \n",
       "106  154211511                 \n",
       "\n",
       "[107 rows x 18 columns]"
      ]
     },
     "execution_count": 4,
     "metadata": {},
     "output_type": "execute_result"
    }
   ],
   "source": [
    "vdf[vdf['State'] == 'India'][:-1]"
   ]
  },
  {
   "cell_type": "code",
   "execution_count": null,
   "metadata": {},
   "outputs": [],
   "source": [
    "vdf = vdf[['Updated On', 'State', 'Total Individuals Registered', 'First Dose Administered', 'Second Dose Administered', 'Male(Individuals Vaccinated)', 'Female(Individuals Vaccinated)',\n",
    "          'Transgender(Individuals Vaccinated)', 'Total Covaxin Administered', 'Total CoviShield Administered', 'Total Doses Administered']]"
   ]
  },
  {
   "cell_type": "code",
   "execution_count": null,
   "metadata": {},
   "outputs": [],
   "source": [
    "vdf.rename(columns={'Male(Individuals Vaccinated)': 'Male', 'Female(Individuals Vaccinated)': 'Female', 'Transgender(Individuals Vaccinated)': 'Transgender'}, inplace=True)"
   ]
  },
  {
   "cell_type": "code",
   "execution_count": null,
   "metadata": {},
   "outputs": [],
   "source": [
    "x = vdf[vdf['State'] == 'Maharashtra'].to_dict()\n",
    "xx = {k:list(v.values()) for k,v in x.items()}\n",
    "xx"
   ]
  },
  {
   "cell_type": "code",
   "execution_count": null,
   "metadata": {},
   "outputs": [],
   "source": [
    "temp = dict(ddf[ddf['State'] == 'Maharashtra'].iloc[0])\n",
    "tp = {\n",
    "    \"state\": temp.pop(\"State\"),\n",
    "    \"x\": list(temp.keys()),\n",
    "    \"y\": list(temp.values())\n",
    "}\n",
    "tp"
   ]
  },
  {
   "cell_type": "code",
   "execution_count": null,
   "metadata": {},
   "outputs": [],
   "source": [
    "vdf.head()"
   ]
  },
  {
   "cell_type": "code",
   "execution_count": null,
   "metadata": {},
   "outputs": [],
   "source": [
    "for col in vdf.columns[2:]:\n",
    "    vdf[f'delta_{\"_\".join(col.split())}'.lower()] = vdf[col].diff()"
   ]
  },
  {
   "cell_type": "markdown",
   "metadata": {},
   "source": [
    "# Getting all delta values"
   ]
  },
  {
   "cell_type": "code",
   "execution_count": null,
   "metadata": {},
   "outputs": [],
   "source": [
    "samp = vdf[vdf['State'] == 'Kerela']"
   ]
  },
  {
   "cell_type": "code",
   "execution_count": null,
   "metadata": {},
   "outputs": [],
   "source": [
    "samp.tail(4)"
   ]
  },
  {
   "cell_type": "code",
   "execution_count": null,
   "metadata": {},
   "outputs": [],
   "source": [
    "for col in samp.columns[2:]:\n",
    "    samp[f'delta_{\"_\".join(col.split())}'.lower()] = samp[col].diff()\n",
    "    \n",
    "samp.fillna(0.0, axis=1, inplace=True)"
   ]
  },
  {
   "cell_type": "code",
   "execution_count": null,
   "metadata": {},
   "outputs": [],
   "source": [
    "samp.head()"
   ]
  },
  {
   "cell_type": "markdown",
   "metadata": {},
   "source": [
    "# Statistics of Vaccine administration"
   ]
  },
  {
   "cell_type": "code",
   "execution_count": null,
   "metadata": {},
   "outputs": [],
   "source": [
    "samp.describe().apply(lambda s: s.apply('{0:.5f}'.format))"
   ]
  },
  {
   "cell_type": "code",
   "execution_count": null,
   "metadata": {},
   "outputs": [],
   "source": [
    "ss = samp.describe().apply(lambda s: s.apply('{0:.5f}'.format))"
   ]
  },
  {
   "cell_type": "code",
   "execution_count": null,
   "metadata": {},
   "outputs": [],
   "source": [
    "ss.to_dict()"
   ]
  },
  {
   "cell_type": "code",
   "execution_count": null,
   "metadata": {},
   "outputs": [],
   "source": [
    "samp.columns[2:]"
   ]
  },
  {
   "cell_type": "code",
   "execution_count": null,
   "metadata": {},
   "outputs": [],
   "source": [
    "tot = vdf[vdf['State'] == 'India']"
   ]
  },
  {
   "cell_type": "code",
   "execution_count": null,
   "metadata": {},
   "outputs": [],
   "source": [
    "vdf.head()"
   ]
  },
  {
   "cell_type": "code",
   "execution_count": null,
   "metadata": {},
   "outputs": [],
   "source": [
    "tot_dd = dict(vdf[vdf['State'] == \"India\"].iloc[0])"
   ]
  },
  {
   "cell_type": "code",
   "execution_count": null,
   "metadata": {},
   "outputs": [],
   "source": [
    "tot_dd"
   ]
  },
  {
   "cell_type": "code",
   "execution_count": null,
   "metadata": {},
   "outputs": [],
   "source": [
    "vdf.head()"
   ]
  },
  {
   "cell_type": "code",
   "execution_count": null,
   "metadata": {},
   "outputs": [],
   "source": [
    "samp = vdf[vdf['State'] == 'India']"
   ]
  },
  {
   "cell_type": "code",
   "execution_count": null,
   "metadata": {
    "scrolled": false
   },
   "outputs": [],
   "source": [
    "samp.describe().apply(lambda s: s.apply('{0:.5f}'.format)).to_dict()"
   ]
  },
  {
   "cell_type": "code",
   "execution_count": null,
   "metadata": {},
   "outputs": [],
   "source": []
  },
  {
   "cell_type": "code",
   "execution_count": null,
   "metadata": {},
   "outputs": [],
   "source": []
  },
  {
   "cell_type": "code",
   "execution_count": 16,
   "metadata": {},
   "outputs": [],
   "source": [
    "class A:\n",
    "    def xxx(self, xx=2):\n",
    "        self.x = xx  \n",
    "    \n",
    "    def y(self):\n",
    "        print(self.x)"
   ]
  },
  {
   "cell_type": "code",
   "execution_count": 17,
   "metadata": {},
   "outputs": [],
   "source": [
    "s = A()\n",
    "s.xxx()"
   ]
  },
  {
   "cell_type": "code",
   "execution_count": 20,
   "metadata": {},
   "outputs": [
    {
     "name": "stdout",
     "output_type": "stream",
     "text": [
      "22\n"
     ]
    }
   ],
   "source": [
    "s.y()"
   ]
  },
  {
   "cell_type": "code",
   "execution_count": 19,
   "metadata": {},
   "outputs": [],
   "source": [
    "s.xxx(xx=22)"
   ]
  },
  {
   "cell_type": "code",
   "execution_count": 21,
   "metadata": {},
   "outputs": [],
   "source": [
    "s2  = A()"
   ]
  },
  {
   "cell_type": "code",
   "execution_count": 22,
   "metadata": {},
   "outputs": [],
   "source": [
    "s2.xxx(123)"
   ]
  },
  {
   "cell_type": "code",
   "execution_count": 23,
   "metadata": {},
   "outputs": [
    {
     "name": "stdout",
     "output_type": "stream",
     "text": [
      "22\n"
     ]
    }
   ],
   "source": [
    "s.y()"
   ]
  },
  {
   "cell_type": "code",
   "execution_count": 24,
   "metadata": {},
   "outputs": [
    {
     "name": "stdout",
     "output_type": "stream",
     "text": [
      "123\n"
     ]
    }
   ],
   "source": [
    "s2.y()"
   ]
  },
  {
   "cell_type": "code",
   "execution_count": null,
   "metadata": {},
   "outputs": [],
   "source": []
  }
 ],
 "metadata": {
  "kernelspec": {
   "display_name": "Python 3",
   "language": "python",
   "name": "python3"
  },
  "language_info": {
   "codemirror_mode": {
    "name": "ipython",
    "version": 3
   },
   "file_extension": ".py",
   "mimetype": "text/x-python",
   "name": "python",
   "nbconvert_exporter": "python",
   "pygments_lexer": "ipython3",
   "version": "3.6.8"
  }
 },
 "nbformat": 4,
 "nbformat_minor": 2
}
