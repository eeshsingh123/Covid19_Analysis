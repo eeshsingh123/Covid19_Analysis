{
 "cells": [
  {
   "cell_type": "code",
   "execution_count": 6,
   "metadata": {},
   "outputs": [],
   "source": [
    "import os\n",
    "import json\n",
    "BASE_PATH = os.environ.get(\"BASE_PATH\", os.path.join(os.sep, 'Projects', 'Python_projects', 'Covid19_Analysis'))\n",
    "BASE_DATA_PATH = os.environ.get(\"BASE_DATA_PATH\", os.path.join(os.sep, 'Projects', 'Python_projects', 'Covid19_Analysis', 'data'))"
   ]
  },
  {
   "cell_type": "code",
   "execution_count": 12,
   "metadata": {},
   "outputs": [],
   "source": [
    "with open(f'{BASE_DATA_PATH}\\\\default_objects\\\\country_iso_2_1_conversion.json', 'w', encoding='utf-8') as fp:\n",
    "    json.dump(convert_ISO_3166_2_to_1, fp)"
   ]
  },
  {
   "cell_type": "code",
   "execution_count": 7,
   "metadata": {},
   "outputs": [
    {
     "name": "stdout",
     "output_type": "stream",
     "text": [
      "i hate this corona virus it is the worst, corona has not say in my life, i need a bed urgently\n"
     ]
    },
    {
     "data": {
      "text/plain": [
       "True"
      ]
     },
     "execution_count": 7,
     "metadata": {},
     "output_type": "execute_result"
    }
   ],
   "source": [
    "s = \"I hate this corona virus it is the worst, Corona has not say in my Life, I need a Bed urgently\".lower()\n",
    "print(s)\n",
    "a = ['corona', 'Corona', 'bed', 'Bed']\n",
    "\n",
    "any([i in s for i in a])"
   ]
  },
  {
   "cell_type": "code",
   "execution_count": 9,
   "metadata": {},
   "outputs": [
    {
     "ename": "SyntaxError",
     "evalue": "can't assign to function call (<ipython-input-9-699f843e04e6>, line 1)",
     "output_type": "error",
     "traceback": [
      "\u001b[1;36m  File \u001b[1;32m\"<ipython-input-9-699f843e04e6>\"\u001b[1;36m, line \u001b[1;32m1\u001b[0m\n\u001b[1;33m    any([i in \"pakistan\" for i.lower() in ['Pakistan', 'Bangladesh', 'SriLanka']])\u001b[0m\n\u001b[1;37m                            ^\u001b[0m\n\u001b[1;31mSyntaxError\u001b[0m\u001b[1;31m:\u001b[0m can't assign to function call\n"
     ]
    }
   ],
   "source": [
    "any([i in \"pakistan\" for i.lower() in ['Pakistan', 'Bangladesh', 'SriLanka']])"
   ]
  },
  {
   "cell_type": "code",
   "execution_count": 8,
   "metadata": {},
   "outputs": [
    {
     "data": {
      "text/plain": [
       "['ventilator',\n",
       " 'ventilator needed',\n",
       " 'need ventilator',\n",
       " 'ventilator need',\n",
       " 'help ventilator',\n",
       " 'ventilator shortage',\n",
       " 'hospital ventilator',\n",
       " 'urgent ventilator']"
      ]
     },
     "execution_count": 8,
     "metadata": {},
     "output_type": "execute_result"
    }
   ],
   "source": [
    "l = ['oxygen', 'oxygen needed', 'need oxygen', 'oxygen need', 'help oxygen', 'oxygen shortage',\n",
    "                      'hospital oxygen', 'urgent oxygen']\n",
    "[i.replace('oxygen', 'ventilator') for i in l]"
   ]
  },
  {
   "cell_type": "code",
   "execution_count": 10,
   "metadata": {},
   "outputs": [
    {
     "data": {
      "text/plain": [
       "'hello'"
      ]
     },
     "execution_count": 10,
     "metadata": {},
     "output_type": "execute_result"
    }
   ],
   "source": [
    "xx = 'HELLO'\n",
    "xx.lower()"
   ]
  },
  {
   "cell_type": "code",
   "execution_count": 11,
   "metadata": {},
   "outputs": [
    {
     "data": {
      "text/plain": [
       "'HELLO'"
      ]
     },
     "execution_count": 11,
     "metadata": {},
     "output_type": "execute_result"
    }
   ],
   "source": [
    "xx"
   ]
  },
  {
   "cell_type": "code",
   "execution_count": null,
   "metadata": {},
   "outputs": [],
   "source": []
  }
 ],
 "metadata": {
  "kernelspec": {
   "display_name": "Python 3",
   "language": "python",
   "name": "python3"
  },
  "language_info": {
   "codemirror_mode": {
    "name": "ipython",
    "version": 3
   },
   "file_extension": ".py",
   "mimetype": "text/x-python",
   "name": "python",
   "nbconvert_exporter": "python",
   "pygments_lexer": "ipython3",
   "version": "3.6.8"
  }
 },
 "nbformat": 4,
 "nbformat_minor": 2
}
