{
 "cells": [
  {
   "cell_type": "code",
   "execution_count": 6,
   "metadata": {},
   "outputs": [],
   "source": [
    "import os\n",
    "import json\n",
    "BASE_PATH = os.environ.get(\"BASE_PATH\", os.path.join(os.sep, 'Projects', 'Python_projects', 'Covid19_Analysis'))\n",
    "BASE_DATA_PATH = os.environ.get(\"BASE_DATA_PATH\", os.path.join(os.sep, 'Projects', 'Python_projects', 'Covid19_Analysis', 'data'))"
   ]
  },
  {
   "cell_type": "code",
   "execution_count": 12,
   "metadata": {},
   "outputs": [],
   "source": [
    "with open(f'{BASE_DATA_PATH}\\\\default_objects\\\\country_iso_2_1_conversion.json', 'w', encoding='utf-8') as fp:\n",
    "    json.dump(convert_ISO_3166_2_to_1, fp)"
   ]
  },
  {
   "cell_type": "code",
   "execution_count": 7,
   "metadata": {},
   "outputs": [
    {
     "name": "stdout",
     "output_type": "stream",
     "text": [
      "i hate this corona virus it is the worst, corona has not say in my life, i need a bed urgently\n"
     ]
    },
    {
     "data": {
      "text/plain": [
       "True"
      ]
     },
     "execution_count": 7,
     "metadata": {},
     "output_type": "execute_result"
    }
   ],
   "source": [
    "s = \"I hate this corona virus it is the worst, Corona has not say in my Life, I need a Bed urgently\".lower()\n",
    "print(s)\n",
    "a = ['corona', 'Corona', 'bed', 'Bed']\n",
    "\n",
    "any([i in s for i in a])"
   ]
  },
  {
   "cell_type": "code",
   "execution_count": 9,
   "metadata": {},
   "outputs": [
    {
     "ename": "SyntaxError",
     "evalue": "can't assign to function call (<ipython-input-9-699f843e04e6>, line 1)",
     "output_type": "error",
     "traceback": [
      "\u001b[1;36m  File \u001b[1;32m\"<ipython-input-9-699f843e04e6>\"\u001b[1;36m, line \u001b[1;32m1\u001b[0m\n\u001b[1;33m    any([i in \"pakistan\" for i.lower() in ['Pakistan', 'Bangladesh', 'SriLanka']])\u001b[0m\n\u001b[1;37m                            ^\u001b[0m\n\u001b[1;31mSyntaxError\u001b[0m\u001b[1;31m:\u001b[0m can't assign to function call\n"
     ]
    }
   ],
   "source": [
    "any([i in \"pakistan\" for i.lower() in ['Pakistan', 'Bangladesh', 'SriLanka']])"
   ]
  },
  {
   "cell_type": "code",
   "execution_count": 8,
   "metadata": {},
   "outputs": [
    {
     "data": {
      "text/plain": [
       "['ventilator',\n",
       " 'ventilator needed',\n",
       " 'need ventilator',\n",
       " 'ventilator need',\n",
       " 'help ventilator',\n",
       " 'ventilator shortage',\n",
       " 'hospital ventilator',\n",
       " 'urgent ventilator']"
      ]
     },
     "execution_count": 8,
     "metadata": {},
     "output_type": "execute_result"
    }
   ],
   "source": [
    "l = ['oxygen', 'oxygen needed', 'need oxygen', 'oxygen need', 'help oxygen', 'oxygen shortage',\n",
    "                      'hospital oxygen', 'urgent oxygen']\n",
    "[i.replace('oxygen', 'ventilator') for i in l]"
   ]
  },
  {
   "cell_type": "code",
   "execution_count": 10,
   "metadata": {},
   "outputs": [
    {
     "data": {
      "text/plain": [
       "'hello'"
      ]
     },
     "execution_count": 10,
     "metadata": {},
     "output_type": "execute_result"
    }
   ],
   "source": [
    "xx = 'HELLO'\n",
    "xx.lower()"
   ]
  },
  {
   "cell_type": "code",
   "execution_count": 11,
   "metadata": {},
   "outputs": [
    {
     "data": {
      "text/plain": [
       "'HELLO'"
      ]
     },
     "execution_count": 11,
     "metadata": {},
     "output_type": "execute_result"
    }
   ],
   "source": [
    "xx"
   ]
  },
  {
   "cell_type": "code",
   "execution_count": 1,
   "metadata": {},
   "outputs": [],
   "source": [
    "h = {'created_at': 'Mon Apr 26 14:37:09 +0000 2021', 'id': 1386690817838895108, 'id_str': '1386690817838895108', 'full_text': \"Visit us less frequently! We mean it.\\n\\nConstantly checking on Covid19 news and updates can only affect your mental wellness adversely. It won't reduce the cases.\\n\\n📣 Stay informed, but don't be consumed by news around you.\\n\\n📌 Take a break. Practice Covid19 news detox. \\n\\n1/3 https://t.co/qkh5wKUnCa\", 'truncated': False, 'display_text_range': [0, 273], 'entities': {'hashtags': [], 'symbols': [], 'user_mentions': [], 'urls': [], 'media': [{'id': 1386690815435493381, 'id_str': '1386690815435493381', 'indices': [274, 297], 'media_url': 'http://pbs.twimg.com/media/Ez6D8xtUUAUl8LK.jpg', 'media_url_https': 'https://pbs.twimg.com/media/Ez6D8xtUUAUl8LK.jpg', 'url': 'https://t.co/qkh5wKUnCa', 'display_url': 'pic.twitter.com/qkh5wKUnCa', 'expanded_url': 'https://twitter.com/covid19indiaorg/status/1386690817838895108/photo/1', 'type': 'photo', 'sizes': {'thumb': {'w': 150, 'h': 150, 'resize': 'crop'}, 'medium': {'w': 1080, 'h': 792, 'resize': 'fit'}, 'small': {'w': 680, 'h': 499, 'resize': 'fit'}, 'large': {'w': 1080, 'h': 792, 'resize': 'fit'}}}]}, 'extended_entities': {'media': [{'id': 1386690815435493381, 'id_str': '1386690815435493381', 'indices': [274, 297], 'media_url': 'http://pbs.twimg.com/media/Ez6D8xtUUAUl8LK.jpg', 'media_url_https': 'https://pbs.twimg.com/media/Ez6D8xtUUAUl8LK.jpg', 'url': 'https://t.co/qkh5wKUnCa', 'display_url': 'pic.twitter.com/qkh5wKUnCa', 'expanded_url': 'https://twitter.com/covid19indiaorg/status/1386690817838895108/photo/1', 'type': 'photo', 'sizes': {'thumb': {'w': 150, 'h': 150, 'resize': 'crop'}, 'medium': {'w': 1080, 'h': 792, 'resize': 'fit'}, 'small': {'w': 680, 'h': 499, 'resize': 'fit'}, 'large': {'w': 1080, 'h': 792, 'resize': 'fit'}}}]}, 'source': '<a href=\"http://twitter.com/download/android\" rel=\"nofollow\">Twitter for Android</a>', 'in_reply_to_status_id': None, 'in_reply_to_status_id_str': None, 'in_reply_to_user_id': None, 'in_reply_to_user_id_str': None, 'in_reply_to_screen_name': None, 'user': {'id': 1240561169296814080, 'id_str': '1240561169296814080', 'name': 'covid19indiaorg', 'screen_name': 'covid19indiaorg', 'location': 'India', 'description': 'Volunteer driven, crowdsourced tracker for Covid19 cases in India.\\n\\nAPI - https://t.co/RHXvhLcc5X\\nBlog - https://t.co/LrAe5Z3HR4\\nTelegram - https://t.co/vRGnChe7gu', 'url': 'https://t.co/pNAmvDp3fz', 'entities': {'url': {'urls': [{'url': 'https://t.co/pNAmvDp3fz', 'expanded_url': 'http://www.covid19india.org', 'display_url': 'covid19india.org', 'indices': [0, 23]}]}, 'description': {'urls': [{'url': 'https://t.co/RHXvhLcc5X', 'expanded_url': 'http://api.covid19india.org', 'display_url': 'api.covid19india.org', 'indices': [74, 97]}, {'url': 'https://t.co/LrAe5Z3HR4', 'expanded_url': 'http://blog.covid19india.org', 'display_url': 'blog.covid19india.org', 'indices': [105, 128]}, {'url': 'https://t.co/vRGnChe7gu', 'expanded_url': 'http://t.me/covid19indiaorg', 'display_url': 't.me/covid19indiaorg', 'indices': [140, 163]}]}}, 'protected': False, 'followers_count': 128518, 'friends_count': 2, 'listed_count': 172, 'created_at': 'Thu Mar 19 08:50:34 +0000 2020', 'favourites_count': 761, 'utc_offset': None, 'time_zone': None, 'geo_enabled': True, 'verified': True, 'statuses_count': 5351, 'lang': None, 'contributors_enabled': False, 'is_translator': False, 'is_translation_enabled': False, 'profile_background_color': 'F5F8FA', 'profile_background_image_url': None, 'profile_background_image_url_https': None, 'profile_background_tile': False, 'profile_image_url': 'http://pbs.twimg.com/profile_images/1264789451235975168/nlZ0_I4N_normal.jpg', 'profile_image_url_https': 'https://pbs.twimg.com/profile_images/1264789451235975168/nlZ0_I4N_normal.jpg', 'profile_banner_url': 'https://pbs.twimg.com/profile_banners/1240561169296814080/1585139852', 'profile_link_color': '1DA1F2', 'profile_sidebar_border_color': 'C0DEED', 'profile_sidebar_fill_color': 'DDEEF6', 'profile_text_color': '333333', 'profile_use_background_image': True, 'has_extended_profile': False, 'default_profile': True, 'default_profile_image': False, 'following': False, 'follow_request_sent': False, 'notifications': False, 'translator_type': 'none', 'withheld_in_countries': []}, 'geo': None, 'coordinates': None, 'place': None, 'contributors': None, 'is_quote_status': False, 'retweet_count': 17, 'favorite_count': 117, 'favorited': False, 'retweeted': False, 'possibly_sensitive': False, 'lang': 'en'}\n"
   ]
  },
  {
   "cell_type": "code",
   "execution_count": 4,
   "metadata": {},
   "outputs": [
    {
     "name": "stdout",
     "output_type": "stream",
     "text": [
      "dict_keys(['created_at', 'id', 'id_str', 'full_text', 'truncated', 'display_text_range', 'entities', 'extended_entities', 'source', 'in_reply_to_status_id', 'in_reply_to_status_id_str', 'in_reply_to_user_id', 'in_reply_to_user_id_str', 'in_reply_to_screen_name', 'user', 'geo', 'coordinates', 'place', 'contributors', 'is_quote_status', 'retweet_count', 'favorite_count', 'favorited', 'retweeted', 'possibly_sensitive', 'lang'])\n"
     ]
    }
   ],
   "source": [
    "print(h.keys())"
   ]
  },
  {
   "cell_type": "code",
   "execution_count": 5,
   "metadata": {},
   "outputs": [
    {
     "data": {
      "text/plain": [
       "'#Beds OR #Urgent OR #Help'"
      ]
     },
     "execution_count": 5,
     "metadata": {},
     "output_type": "execute_result"
    }
   ],
   "source": [
    "\" OR \".join(\"#Beds #Urgent #Help\".split(\" \"))"
   ]
  },
  {
   "cell_type": "code",
   "execution_count": 6,
   "metadata": {},
   "outputs": [
    {
     "name": "stdout",
     "output_type": "stream",
     "text": [
      "India\n"
     ]
    }
   ],
   "source": [
    "print(h['user']['location'])"
   ]
  },
  {
   "cell_type": "code",
   "execution_count": 7,
   "metadata": {},
   "outputs": [
    {
     "name": "stdout",
     "output_type": "stream",
     "text": [
      "dict_keys(['id', 'id_str', 'name', 'screen_name', 'location', 'description', 'url', 'entities', 'protected', 'followers_count', 'friends_count', 'listed_count', 'created_at', 'favourites_count', 'utc_offset', 'time_zone', 'geo_enabled', 'verified', 'statuses_count', 'lang', 'contributors_enabled', 'is_translator', 'is_translation_enabled', 'profile_background_color', 'profile_background_image_url', 'profile_background_image_url_https', 'profile_background_tile', 'profile_image_url', 'profile_image_url_https', 'profile_banner_url', 'profile_link_color', 'profile_sidebar_border_color', 'profile_sidebar_fill_color', 'profile_text_color', 'profile_use_background_image', 'has_extended_profile', 'default_profile', 'default_profile_image', 'following', 'follow_request_sent', 'notifications', 'translator_type', 'withheld_in_countries'])\n"
     ]
    }
   ],
   "source": [
    "print(h['user'].keys())"
   ]
  },
  {
   "cell_type": "code",
   "execution_count": null,
   "metadata": {},
   "outputs": [],
   "source": []
  }
 ],
 "metadata": {
  "kernelspec": {
   "display_name": "Python 3",
   "language": "python",
   "name": "python3"
  },
  "language_info": {
   "codemirror_mode": {
    "name": "ipython",
    "version": 3
   },
   "file_extension": ".py",
   "mimetype": "text/x-python",
   "name": "python",
   "nbconvert_exporter": "python",
   "pygments_lexer": "ipython3",
   "version": "3.6.8"
  }
 },
 "nbformat": 4,
 "nbformat_minor": 2
}
